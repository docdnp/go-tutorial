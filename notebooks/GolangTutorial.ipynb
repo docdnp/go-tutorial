{
  "cells": [
    {
      "cell_type": "markdown",
      "metadata": {
        "tags": []
      },
      "source": [
        "# Golang Tutorial"
      ]
    },
    {
      "cell_type": "markdown",
      "metadata": {
        "tags": []
      },
      "source": [
        "A former employer, asked me to do a tech teaser on the Go programming language before I left the company. \n",
        "Earlier, rather PowerPoint-heavy tech teasers, had the big disadvantage that the learning effect was lower, but they were better suited to the character of a tech teaser.\n",
        "Especially learning a new programming language is much easier when you dig your hands right into the dirt and very short feedback loops move you forward.\n",
        "The idea of using a Jupyter notebook for such a format was born. \n",
        "Because it was clear that the effort of such a \"project\" would be bigger and therefore would be done in large parts of my free time, I understandably didn't want to just \"give away\" this work. Fortunately it became possible to create this Jupyter notebook.\n",
        "\n",
        "The first Jupyter kernel for Golang I used was [gophernotes](https://github.com/gopherdata/gophernotes#readme).\n",
        "This was based on [gomacro](https://github.com/cosmos72/gomacro#readme), a [REPL](https://en.wikipedia.org/wiki/Read%E2%80%93eval%E2%80%93print_loop) for Go.\n",
        "I was thrilled with how easily and quickly the tutorial's repository developed based on small examples.\n",
        "But I also quickly reached the limits of how subtly different the REPL and native Go behaved in individual areas.\n",
        "Then I discovered another Go kernel for Jupyter notebooks, namely [gonb](https://github.com/janpfeifer/gonb#readme).\n",
        "Its concept takes advantage of the fact that the compile time of Golang is so fast that it does without a REPL and builds a Go program before an execution, which is compiled and executed immediately.\n",
        "After adapting all the examples, I am sure that this approach carries better for a tutorial.\n",
        "However, restarting a kernel and executing all cells takes a \"relatively\" long time.\n",
        "One must be aware of this.\n",
        "\n",
        "Personally, it was important to me to keep the hurdle to get started with a new programming language as low as possible.\n",
        "Simply start a Docker container and get started right away. \n",
        "That was my idea.\n",
        "A mix of [Effective Go](https://go.dev/doc/effective_go) and the [Go Playground](https://go.dev/play/).\n",
        "Supplemented by a usable shell environment and many tools that are helpful in developing Go programs.\n",
        "Therefore, I envisioned that everything that belongs together would come together in a Docker image:\n",
        "* The tutorial itself\n",
        "* An installation of Jupyter-Lab\n",
        "* The Jupyter kernel for Go\n",
        "* A shell environment that makes sense\n",
        "* All sorts of tools and possibilities around developing Go programs.\n",
        "\n",
        "So this is the preliminary result, which will hopefully develop steadily.\n",
        "Unfortunately, in the first version I could not finish some topics that are very important from my point of view.\n",
        "But these will surely follow.\n",
        "And who knows... maybe some more tutorials for other programming languages and technologies will follow.\n",
        "\n",
        "But now have fun trying it out. :-)"
      ]
    },
    {
      "cell_type": "markdown",
      "metadata": {
        "slideshow": {
          "slide_type": "subslide"
        },
        "tags": []
      },
      "source": [
        "## Overview\n",
        "\n",
        "2. [Hello-World](#Hello-World-^)\n",
        "1. [Basic Types](#Basic-Types-^)\n",
        "1. [Maps. Arrays and Slices](#Maps,-Arrays-and-Slices-^)\n",
        "1. [Printing types and values](#Printing-types-and-values-^)\n",
        "1. [Structs](#Structs-^)\n",
        "1. [Control flow](#Control-flow-^)\n",
        "1. [Functions](#Functions-^)\n",
        "1. [Errors](#Errors-^)\n",
        "1. [Concurrency](#Concurrency-^)\n",
        "1. [OOP - Object oriented go](#OOP---Object-oriented-go-^)\n",
        "<!-- 1. [Reflection](#Reflection-^)\n",
        "1. [Generics](#Generics-^)\n",
        "1. [Standard library](#Standard-library-^)\n",
        "1. [Packages and Modules](#Packages-and-Modules-^)\n",
        "1. [Testing](#Testing-^)\n",
        "1. [Toolset](#Toolset-^) -->"
      ]
    },
    {
      "cell_type": "markdown",
      "metadata": {
        "slideshow": {
          "slide_type": "subslide"
        },
        "tags": []
      },
      "source": [
        "## Links\n",
        "| Recommended to read                                                    | URL                                              |\n",
        "| ---------------------------------------------------------------------- | ------------------------------------------------ |\n",
        "| The Go Programming Language Specification                              | https://go.dev/ref/spec                          |\n",
        "| Effective Go                                                           | https://go.dev/doc/effective_go                  |\n",
        "| The Zen of Go                                                          | https://dave.cheney.net/2020/02/23/the-zen-of-go |\n",
        "| The Tao of Go                                                          | https://bitfieldconsulting.com/golang/tao-of-go  |\n",
        "| GoNB, A Go Kernel for Jupyter Notebooks                                | https://github.com/janpfeifer/gonb               |\n",
        "| An interactive tutorial for go on basis of Jupyter Notebooks and gonb. | https://github.com/docdnp/go-tutorial            |\n"
      ]
    },
    {
      "cell_type": "markdown",
      "metadata": {
        "tags": []
      },
      "source": [
        "# Hello World [^](#Overview)\n",
        "\n",
        "It always makes sense to start with the good old hello world. ;-)"
      ]
    },
    {
      "cell_type": "code",
      "metadata": {
        "tags": []
      },
      "source": [
        "// The following line is usally part of a real go application but\n",
        "// within \"gonb\" (the notebook's kernel for golang) it isn't supported\n",
        "// package main\n",
        "\n",
        "func main() {\n",
        "    println(\"Hello world.\")\n",
        "    print(\"Hello World\\n\")\n",
        "}"
      ]
    },
    {
      "cell_type": "code",
      "metadata": {
        "tags": []
      },
      "source": [
        "// In \"gonb\" every \"func main() {...}\" can be abbreviated by %%\n",
        "// \"gonb\" puts everything after %% into its separate \"main()\"\n",
        "%%\n",
        "println(\"Hello world.\")\n",
        "print(\"Hello World\\n\")"
      ]
    },
    {
      "cell_type": "markdown",
      "metadata": {
        "tags": []
      },
      "source": [
        "Although the functions `print(...)` and `println(...)` exist, it isn't recommended to use them. \n",
        "It isn't guaranteed that they'll stay in the language. \n",
        "Rather than using those functions you should use the `fmt` module of the standard library.\n",
        "In this tutorial we will use them for sake of simplicity."
      ]
    },
    {
      "cell_type": "code",
      "metadata": {
        "tags": []
      },
      "source": [
        "// package main // ;-)\n",
        "import \"fmt\"\n",
        "\n",
        "func main() {\n",
        "    fmt.Println(\"Hello world.\")\n",
        "    fmt.Print(\"Hello World\\n\")\n",
        "}"
      ]
    },
    {
      "cell_type": "markdown",
      "metadata": {
        "tags": []
      },
      "source": [
        "# Basic Types [^](#Overview)"
      ]
    },
    {
      "cell_type": "markdown",
      "metadata": {},
      "source": [
        "|                   |                   |\n",
        "| --------------------------------------------- | --------------------- |\n",
        "| **bool**                                      | bool                  |\n",
        "| **string**                                    | string                |\n",
        "| **int  int8  int16  int32  int64**            | integer               |\n",
        "| **uint uint8 uint16 uint32 uint64 uintptr**   | unsigned integer      |\n",
        "| **byte**                                      | alias for **uint8**   |\n",
        "| **rune**                                      | alias for **int32** (represents a Unicode code point) |\n",
        "| **float32 float64**                           | float                 |\n",
        "| **complex64 complex128**                      | complex               |\n"
      ]
    },
    {
      "cell_type": "markdown",
      "metadata": {
        "tags": []
      },
      "source": [
        "## Default Values"
      ]
    },
    {
      "cell_type": "code",
      "metadata": {
        "tags": []
      },
      "source": [
        "%%\n",
        "var b1 bool\n",
        "var b2 string\n",
        "var b3 int\n",
        "var b4 uint\n",
        "var b5 byte\n",
        "var b6 rune\n",
        "var b7 float32\n",
        "var b8 complex64\n",
        "\n",
        "println(\"b1\", b1, \"\\nb2\", b2, \"\\nb3\", b3, \"\\nb4\", b4)\n",
        "println(\"b5\", b5, \"\\nb6\", b6, \"\\nb7\", b7, \"\\nb8\", b8)"
      ]
    },
    {
      "cell_type": "markdown",
      "metadata": {
        "tags": []
      },
      "source": [
        "## Variables"
      ]
    },
    {
      "cell_type": "code",
      "metadata": {
        "tags": []
      },
      "source": [
        "%% // Regular variable declaration with default value\n",
        "var a int\n",
        "println(a)"
      ]
    },
    {
      "cell_type": "code",
      "metadata": {
        "tags": []
      },
      "source": [
        "%% // Regular variable declaration with defined value\n",
        "var a int = 10\n",
        "println(a)"
      ]
    },
    {
      "cell_type": "code",
      "metadata": {
        "tags": []
      },
      "source": [
        "%% // Regular variable declaration with inferred type\n",
        "var a = 10\n",
        "print(a)"
      ]
    },
    {
      "cell_type": "code",
      "metadata": {
        "tags": []
      },
      "source": [
        "%% // Short variable declaration\n",
        "a := \"Hello\"\n",
        "print(a)"
      ]
    },
    {
      "cell_type": "code",
      "metadata": {
        "tags": []
      },
      "source": [
        "%% // Declaring multiple variables at once\n",
        "var a, b int\n",
        "println(a, b)"
      ]
    },
    {
      "cell_type": "markdown",
      "metadata": {
        "tags": []
      },
      "source": [
        "### Short vs regular declarations\n",
        "\n",
        "Short declarations can only be done within functions. Actually they indicate a \"local\" use."
      ]
    },
    {
      "cell_type": "code",
      "metadata": {
        "tags": []
      },
      "source": [
        "var i = 0\n",
        "\n",
        "func main() {\n",
        "\tprintln(\"i:\", i)\n",
        "}"
      ]
    },
    {
      "cell_type": "code",
      "metadata": {
        "tags": []
      },
      "source": [
        "func main() {\n",
        "\ti := 5\n",
        "\ti = 10\n",
        "\tprintln(\"i:\", i)\n",
        "}"
      ]
    },
    {
      "cell_type": "code",
      "metadata": {
        "tags": []
      },
      "source": [
        "// This fails as short variables are only allowed within functions\n",
        "i := 0\n",
        "\n",
        "func main () {\n",
        "    println(\"i:\",i)\n",
        "}"
      ]
    },
    {
      "cell_type": "markdown",
      "metadata": {
        "tags": []
      },
      "source": [
        "### Declaration blocks"
      ]
    },
    {
      "cell_type": "code",
      "metadata": {
        "tags": []
      },
      "source": [
        "var (\n",
        "    a = 10\n",
        "    b = false\n",
        "    c = \"test\"\n",
        ")\n",
        "\n",
        "%%\n",
        "println(a, b, c)"
      ]
    },
    {
      "cell_type": "code",
      "metadata": {
        "tags": []
      },
      "source": [
        "var (\n",
        "    a int\n",
        "    b bool\n",
        "    c string\n",
        ")\n",
        "\n",
        "%%\n",
        "println(a, b, len(c))"
      ]
    },
    {
      "cell_type": "markdown",
      "metadata": {
        "tags": []
      },
      "source": [
        "## Pointers, Interfaces and functions"
      ]
    },
    {
      "cell_type": "code",
      "metadata": {
        "tags": []
      },
      "source": [
        "// Declare a int pointer and an int value\n",
        "var a *int\n",
        "var b = 10\n",
        "%% \n",
        "println(a, b)"
      ]
    },
    {
      "cell_type": "code",
      "metadata": {
        "tags": []
      },
      "source": [
        "%% // Assign the integer to the pointer\n",
        "\n",
        "a = &b\n",
        "*a = 20\n",
        "println(a, b)"
      ]
    },
    {
      "cell_type": "code",
      "metadata": {
        "tags": []
      },
      "source": [
        "// this cell depends on the previous cell\n",
        "var a interface{}\n",
        "\n",
        "%%\n",
        "println(a, b)"
      ]
    },
    {
      "cell_type": "code",
      "metadata": {
        "tags": []
      },
      "source": [
        "a = &b\n",
        "println(a, b)"
      ]
    },
    {
      "cell_type": "markdown",
      "metadata": {},
      "source": [
        "Functions are first class citizens in go:"
      ]
    },
    {
      "cell_type": "code",
      "metadata": {
        "tags": []
      },
      "source": [
        "var a func()\n",
        "\n",
        "func helloWorld() {\n",
        "    println(\"Hello World\")\n",
        "}\n",
        "\n",
        "%%\n",
        "a = helloWorld\n",
        "a()"
      ]
    },
    {
      "cell_type": "markdown",
      "metadata": {
        "tags": []
      },
      "source": [
        "## Constans and enumerations"
      ]
    },
    {
      "cell_type": "code",
      "metadata": {
        "tags": []
      },
      "source": [
        "const GREETING = \"Hello World\"\n",
        "\n",
        "%%\n",
        "println(GREETING, \":-)\")"
      ]
    },
    {
      "cell_type": "code",
      "metadata": {
        "tags": []
      },
      "source": [
        "const (\n",
        "    DEV_ID = 10\n",
        "    GREETING = \"Hello World\"\n",
        ")\n",
        "\n",
        "%%\n",
        "println(GREETING, DEV_ID)"
      ]
    },
    {
      "cell_type": "code",
      "metadata": {
        "tags": []
      },
      "source": [
        "// This will fail due to a missing value\n",
        "const (\n",
        "    Option01\n",
        "    Option02\n",
        ")\n",
        "\n",
        "%%\n",
        "println(Option01, Option02)"
      ]
    },
    {
      "cell_type": "code",
      "metadata": {
        "tags": []
      },
      "source": [
        "const (\n",
        "    Option01 = 0\n",
        "    Option02\n",
        "    Option03\n",
        ")\n",
        "\n",
        "%%\n",
        "println(Option01, Option02, Option03)"
      ]
    },
    {
      "cell_type": "code",
      "metadata": {
        "tags": []
      },
      "source": [
        "const (\n",
        "    // define an enum\n",
        "    enumVal = iota\n",
        "    enumValNext\n",
        "    enumValAndSoOn\n",
        ")\n",
        "\n",
        "const (\n",
        "    // define another enum\n",
        "    otherEnumVal = iota\n",
        "    otherEnumValNext\n",
        "    otherEnumValAndSoOn\n",
        ")\n",
        "\n",
        "%%\n",
        "println(enumVal, enumValNext, enumValAndSoOn)\n",
        "println(otherEnumVal, otherEnumValNext, otherEnumValAndSoOn)"
      ]
    },
    {
      "cell_type": "markdown",
      "metadata": {
        "tags": []
      },
      "source": [
        "# Maps, Arrays and Slices [^](#Overview)"
      ]
    },
    {
      "cell_type": "markdown",
      "metadata": {
        "tags": []
      },
      "source": [
        "## Arrays"
      ]
    },
    {
      "cell_type": "code",
      "metadata": {
        "tags": []
      },
      "source": [
        "var a [9]int\n",
        "\n",
        "%%\n",
        "a[1] = 100\n",
        "fmt.Println(a)"
      ]
    },
    {
      "cell_type": "code",
      "metadata": {
        "tags": []
      },
      "source": [
        "%%\n",
        "println(len(a))"
      ]
    },
    {
      "cell_type": "code",
      "metadata": {
        "tags": []
      },
      "source": [
        "%% // fails because index out of bounds\n",
        "fmt.Println(a[9])"
      ]
    },
    {
      "cell_type": "markdown",
      "metadata": {},
      "source": [
        "### Appending"
      ]
    },
    {
      "cell_type": "code",
      "metadata": {
        "tags": []
      },
      "source": [
        "%% // fails as a is an array and not a slice\n",
        "a = append(a, 10)\n",
        "println(a[8])"
      ]
    },
    {
      "cell_type": "code",
      "metadata": {
        "tags": []
      },
      "source": [
        "%%\n",
        "a := [5]int{0,1,2,3,5}\n",
        "fmt.Println(a)"
      ]
    },
    {
      "cell_type": "code",
      "metadata": {
        "tags": []
      },
      "source": [
        "%% // fails as a is an array and not a slice\n",
        "a = append(a, 10)"
      ]
    },
    {
      "cell_type": "markdown",
      "metadata": {
        "tags": []
      },
      "source": [
        "## Slices"
      ]
    },
    {
      "cell_type": "markdown",
      "metadata": {},
      "source": [
        "<center><div>\n",
        "<img style=\"background-color: gray\" src=\"https://go.dev/blog/slices-intro/slice-struct.png\">\n",
        "<img style=\"background-color: lightgray\" src=\"https://go.dev/blog/slices-intro/slice-1.png\">\n",
        "</div></center>"
      ]
    },
    {
      "cell_type": "code",
      "metadata": {
        "tags": []
      },
      "source": [
        "%% // slice b uses a partition of array a\n",
        "var a = [9]int{0, 0, 0, 0, 0, 0, 0, 0, 0}\n",
        "var b = a[1:7]\n",
        "\n",
        "println(len(b), cap(b), b)"
      ]
    },
    {
      "cell_type": "code",
      "metadata": {
        "tags": []
      },
      "source": [
        "%% // b's first and a's second element are the identical memory location\n",
        "var b = a[1:7]\n",
        "println(&a[1], &b[0])"
      ]
    },
    {
      "cell_type": "code",
      "metadata": {
        "tags": []
      },
      "source": [
        "%% // appending a 7th element to b changes the 8th element of a\n",
        "b = append(b, 10)\n",
        "\n",
        "fmt.Println(len(b), cap(b), b)\n",
        "fmt.Println(len(a), cap(a), a)"
      ]
    },
    {
      "cell_type": "code",
      "metadata": {
        "tags": []
      },
      "source": [
        "%% // changing the second element of b changes the third of a\n",
        "b[1] = 200\n",
        "fmt.Println(len(b), cap(b), b)\n",
        "fmt.Println(len(a), cap(a), a)\n",
        "fmt.Println(&a[1], &b[0])"
      ]
    },
    {
      "cell_type": "code",
      "metadata": {
        "tags": []
      },
      "source": [
        "%% // appending so many elements to b that b\n",
        "b = append(b, 10, 11, 12)\n",
        "b[1] = 300\n",
        "\n",
        "fmt.Println(len(b), cap(b), b)\n",
        "fmt.Println(len(a), cap(a), a)\n",
        "fmt.Println(&a[1], &b[0])"
      ]
    },
    {
      "cell_type": "code",
      "metadata": {
        "tags": []
      },
      "source": [
        "%% // define a slice explicitly\n",
        "b := []int{1, 2, 3, 4, 5, 6, 7}\n",
        "println(b)\n",
        "println(len(b))\n",
        "println(cap(b))"
      ]
    },
    {
      "cell_type": "markdown",
      "metadata": {
        "tags": []
      },
      "source": [
        "### Create: make, new"
      ]
    },
    {
      "cell_type": "code",
      "metadata": {
        "tags": []
      },
      "source": [
        "%% // declare a slice, but don't define it yet\n",
        "var a []int  // slice\n",
        "println(len(a), cap(a))\n",
        "\n",
        "// allocate the memory for a slice\n",
        "a = make([]int, 10)\n",
        "println(len(a), cap(a))\n",
        "\n",
        "// allocate the memory and the capacity for a slice\n",
        "a = make([]int, 10, 20)\n",
        "println(len(a), cap(a))"
      ]
    },
    {
      "cell_type": "code",
      "metadata": {
        "tags": []
      },
      "source": [
        "%% // allocate heap memory for a slice\n",
        "var a *[]int  // slice\n",
        "a = new([]int)\n",
        "println(len(*a), cap(*a))"
      ]
    },
    {
      "cell_type": "markdown",
      "metadata": {
        "tags": []
      },
      "source": [
        "### Copy"
      ]
    },
    {
      "cell_type": "code",
      "metadata": {
        "tags": []
      },
      "source": [
        "%% // create an allocated and a just declared slice\n",
        "var a, b []int \n",
        "\n",
        "a = make([]int, 10)\n",
        "println(len(a), cap(a))\n",
        "a[5] = 100\n",
        "\n",
        "println(a, b)"
      ]
    },
    {
      "cell_type": "code",
      "metadata": {
        "tags": []
      },
      "source": [
        "%% // copy from a (len=10) to b (len=6)\n",
        "a := make([]int, 10)\n",
        "a[5] = 100\n",
        "\n",
        "b := make([]int, 6)\n",
        "copy(b, a)\n",
        "fmt.Println(a, b)"
      ]
    },
    {
      "cell_type": "markdown",
      "metadata": {
        "tags": []
      },
      "source": [
        "### Length / Capacity"
      ]
    },
    {
      "cell_type": "code",
      "metadata": {
        "tags": []
      },
      "source": [
        "%% // len and cap can be applied on arrays and slices\n",
        "a := [2]int{2, 4} // array\n",
        "b := []int{6, 8}  // slice\n",
        "\n",
        "println(len(a), len(b))\n",
        "println(cap(a), cap(b))"
      ]
    },
    {
      "cell_type": "code",
      "metadata": {
        "tags": []
      },
      "source": [
        "%% // len can also be applied on strings\n",
        "s := \"Hello World\"\n",
        "println(len(s))"
      ]
    },
    {
      "cell_type": "markdown",
      "metadata": {
        "tags": []
      },
      "source": [
        "## Maps"
      ]
    },
    {
      "cell_type": "code",
      "metadata": {
        "tags": []
      },
      "source": [
        "// remove previous global definitions of a and b\n",
        "%rm a\n",
        "%rm b\n",
        "\n",
        "// declare a string x string map\n",
        "var a map[string]string\n",
        "\n",
        "%% // see it's empty and uninitialized\n",
        "fmt.Println(a)"
      ]
    },
    {
      "cell_type": "code",
      "metadata": {
        "tags": []
      },
      "source": [
        "%% // this panics as map 'a' isn't allocated yet\n",
        "a[\"key\"] = \"value\""
      ]
    },
    {
      "cell_type": "code",
      "metadata": {
        "tags": []
      },
      "source": [
        "%% // allocate the map 'a' explicitly\n",
        "a = map[string]string{\n",
        "    \"key1\": \"value1\",\n",
        "    \"key2\": \"value2\",\n",
        "}\n",
        "\n",
        "fmt.Println(\"a[key1]:\", a[\"key1\"])\n",
        "fmt.Println(\"a      :\", a)\n",
        "fmt.Println(len(a)) // len can be applied on maps"
      ]
    },
    {
      "cell_type": "code",
      "metadata": {
        "tags": []
      },
      "source": [
        "%% // allocate a string x string x string map 'a'\n",
        "a := map[string]map[string]string{\n",
        "    \"key1\": {\n",
        "        \"subkey1\": \"value\",\n",
        "    },\n",
        "}\n",
        "\n",
        "println(\"a:\", a)\n",
        "println(len(a))"
      ]
    },
    {
      "cell_type": "markdown",
      "metadata": {},
      "source": [
        "### Create: make"
      ]
    },
    {
      "cell_type": "code",
      "metadata": {
        "tags": []
      },
      "source": [
        " // declare a int x int map but don't allocte the memory yet\n",
        "var a map[int]int\n",
        "\n",
        "%% // see the map is 0x0\n",
        "println(\"a:\", a)\n",
        "a[0] = 5 // => setting an unallocated index leads to a panic"
      ]
    },
    {
      "cell_type": "code",
      "metadata": {
        "tags": []
      },
      "source": [
        "%% // use make to allocate memory for an int x int map\n",
        "a = make(map[int]int)\n",
        "a[2] = 5\n",
        "fmt.Println(a)"
      ]
    },
    {
      "cell_type": "markdown",
      "metadata": {
        "tags": []
      },
      "source": [
        "### Find keys"
      ]
    },
    {
      "cell_type": "code",
      "metadata": {
        "tags": []
      },
      "source": [
        "var a = map[string]int{ // define global map a\n",
        "    \"a\": 1,\n",
        "    \"b\": 2,\n",
        "}\n",
        "%% \n",
        "fmt.Println(a)"
      ]
    },
    {
      "cell_type": "code",
      "metadata": {
        "tags": []
      },
      "source": [
        "%% // search for a non-existing key\n",
        "k, ok := a[\"c\"]\n",
        "fmt.Println(k, ok)"
      ]
    },
    {
      "cell_type": "code",
      "metadata": {
        "tags": []
      },
      "source": [
        "%% // search an existing key\n",
        "k, ok := a[\"a\"]\n",
        "fmt.Println(k, ok)"
      ]
    },
    {
      "cell_type": "markdown",
      "metadata": {
        "tags": []
      },
      "source": [
        "### Delete keys"
      ]
    },
    {
      "cell_type": "code",
      "metadata": {
        "tags": []
      },
      "source": [
        "%% // create a map and delete one of it's entries\n",
        "a := map[string]int{\n",
        "    \"a\": 1,\n",
        "    \"b\": 2,\n",
        "}\n",
        "delete(a, \"b\")\n",
        "fmt.Println(a)"
      ]
    },
    {
      "cell_type": "markdown",
      "metadata": {
        "tags": []
      },
      "source": [
        "# Printing types and values [^](#Overview)"
      ]
    },
    {
      "cell_type": "code",
      "metadata": {
        "tags": []
      },
      "source": [
        "import \"fmt\"\n",
        "\n",
        "a := map[string]string{\n",
        "    \"a\": \"b\",\n",
        "    \"a2\": \"c\",\n",
        "}\n",
        "\n",
        "fmt.Printf(\"%T: %v\\n\", a, a) // nil as result?"
      ]
    },
    {
      "cell_type": "code",
      "metadata": {
        "tags": []
      },
      "source": [
        "fmt.Printf(\"%T: %v\\n\", fmt.Printf, fmt.Printf)"
      ]
    },
    {
      "cell_type": "code",
      "metadata": {
        "tags": []
      },
      "source": [
        "l, err := fmt.Printf(\"%T: %v\\n\", fmt.Printf, fmt.Printf)\n",
        "println(l, err)"
      ]
    },
    {
      "cell_type": "markdown",
      "metadata": {},
      "source": [
        "For additional information about printf format strings, take a look on the docs of [package fmt](https://pkg.go.dev/fmt#hdr-Printing)."
      ]
    },
    {
      "cell_type": "markdown",
      "metadata": {
        "tags": []
      },
      "source": [
        "# Structs [^](#Overview)"
      ]
    },
    {
      "cell_type": "code",
      "metadata": {
        "tags": []
      },
      "source": [
        "// define a struct type\n",
        "type GoDeveloper struct {\n",
        "    Name string\n",
        "    Age  int\n",
        "}\n",
        "\n",
        "// create two global instances dev1 and dev2\n",
        "var dev1 = GoDeveloper{\"Foo\", 32}\n",
        "var dev2 = GoDeveloper{Age: 32}\n",
        "\n",
        "%% // ... and dump them using %v\n",
        "fmt.Printf(\"%v\\n%v\\n\", dev1, dev2)"
      ]
    },
    {
      "cell_type": "code",
      "metadata": {
        "tags": []
      },
      "source": [
        "%% // dump dev1 with full golang information '%#v'\n",
        "fmt.Printf(\"%#v\\n\", dev1)"
      ]
    },
    {
      "cell_type": "code",
      "metadata": {
        "tags": []
      },
      "source": [
        "%% // name dev2 \"Bar\" and dump it with extended golang information '%+v'\n",
        "dev2.Name = \"Bar\"\n",
        "fmt.Printf(\"%+v\\n\", dev2)"
      ]
    },
    {
      "cell_type": "code",
      "metadata": {
        "tags": []
      },
      "source": [
        "// create a third global instance dev3 of GoDeveloper (using new, thus creating a pointer)\n",
        "var dev3 = new (GoDeveloper)\n",
        "\n",
        "%% // set dev3's age and name and dump it using %v, %+v and %#v\n",
        "dev3.Age = 31\n",
        "dev3.Name = \"Foobar\"\n",
        "fmt.Printf(\"%v\\n\", dev3)\n",
        "fmt.Printf(\"%+v\\n\", dev3)\n",
        "fmt.Printf(\"%#v\\n\", dev3)"
      ]
    },
    {
      "cell_type": "code",
      "metadata": {
        "tags": []
      },
      "source": [
        "%% // print the sum of all GoDeveloper's ages, and see that there's no \n",
        "// difference whether you access a pointer or non-pointer instance of a type\n",
        "println(dev1.Age + dev2.Age + dev3.Age)"
      ]
    },
    {
      "cell_type": "markdown",
      "metadata": {
        "tags": []
      },
      "source": [
        "## Anonymous structs"
      ]
    },
    {
      "cell_type": "code",
      "metadata": {
        "tags": []
      },
      "source": [
        "%% // define an anonymous struct dev4 (which is structured exactly like type GoDeveloper)\n",
        "dev4 := struct {\n",
        "    Age int\n",
        "    Name string\n",
        "} {\n",
        "    Age: 31,\n",
        "    Name: \"ANON\",\n",
        "}\n",
        "\n",
        "fmt.Printf(\"%#v\\n\", dev4)"
      ]
    },
    {
      "cell_type": "code",
      "metadata": {
        "tags": []
      },
      "source": [
        "%% // define the same anonymous struct dev4 in a shorter form \n",
        "dev4 := struct { Age int; Name string }{\n",
        "    Age: 31,\n",
        "    Name: \"ANON\",\n",
        "}\n",
        "\n",
        "fmt.Printf(\"%#v\\n\", dev4)"
      ]
    },
    {
      "cell_type": "markdown",
      "metadata": {},
      "source": [
        "# Control flow [^](#Overview)"
      ]
    },
    {
      "cell_type": "markdown",
      "metadata": {},
      "source": [
        "## If statements"
      ]
    },
    {
      "cell_type": "code",
      "metadata": {
        "tags": []
      },
      "source": [
        "%% // if-statement: the most simple form\n",
        "if len(\"Hello\") == 5 {\n",
        "    fmt.Println(\"World\")\n",
        "}"
      ]
    },
    {
      "cell_type": "code",
      "metadata": {
        "tags": []
      },
      "source": [
        "%% // if-statement: with else clause\n",
        "if len(\"Hello\") == 6 {\n",
        "    fmt.Println(\"World\")\n",
        "} else {\n",
        "    fmt.Println(\"Sun\")\n",
        "}"
      ]
    },
    {
      "cell_type": "code",
      "metadata": {
        "tags": []
      },
      "source": [
        "%% // if-statement: if else chain with three paths\n",
        "if len(\"Hello\") == 6 {\n",
        "    fmt.Println(\"World\")\n",
        "} else if len(\"Sun\") == 4 {\n",
        "    fmt.Println(\"Sun\")\n",
        "} else {\n",
        "    fmt.Println(\"Moon\")\n",
        "}"
      ]
    },
    {
      "cell_type": "code",
      "metadata": {
        "tags": []
      },
      "source": [
        "%% // if-statement: retrieval of two return values and using one directly as the condition\n",
        "devs := map[string]*GoDeveloper{\n",
        "    \"senior\": &GoDeveloper{Name: \"Pete\", Age: 55},\n",
        "    \"junior\": &GoDeveloper{Name: \"Anna\", Age: 27},\n",
        "}\n",
        "\n",
        "if dev, ok := devs[\"senior\"]; ok {\n",
        "    fmt.Printf(\"%+v\\n\", dev)\n",
        "}"
      ]
    },
    {
      "cell_type": "markdown",
      "metadata": {},
      "source": [
        "## Switches"
      ]
    },
    {
      "cell_type": "code",
      "metadata": {
        "tags": []
      },
      "source": [
        "import \"math/rand\"\n",
        "\n",
        "%% // switch: no implicit fallthrough\n",
        "num := rand.Int() % 5\n",
        "println(num)\n",
        "switch num {\n",
        "    case 0:\n",
        "    case 1:\n",
        "        println(\"Less than 2:\", num)\n",
        "    case 2:\n",
        "    default:\n",
        "    println(\"Got unexpected:\", num)\n",
        "}"
      ]
    },
    {
      "cell_type": "code",
      "metadata": {
        "tags": []
      },
      "source": [
        "%% // switch: explicit grouping of cases\n",
        "switch num := rand.Int() % 10; num {\n",
        "    case 0, 1:\n",
        "        println(\"Less than 2:\", num)\n",
        "    case 2, 3, 4:\n",
        "        println(\"Less than 5:\", num)\n",
        "    default:\n",
        "    println(\"Got unexpected:\", num)\n",
        "}"
      ]
    },
    {
      "cell_type": "code",
      "metadata": {
        "tags": []
      },
      "source": [
        "%% // switch: explicit fallthrough\n",
        "switch num := rand.Int() % 12; num {\n",
        "    case 0:\n",
        "        println(\"Less than 2:\", num)\n",
        "        fallthrough\n",
        "    case 1, 2, 3:\n",
        "        println(\"Less than 4:\", num)\n",
        "        fallthrough\n",
        "    case 4, 5, 6:\n",
        "        println(\"Less than 7:\", num)\n",
        "        fallthrough\n",
        "    case 7, 8:\n",
        "        println(\"Less than 9:\", num)\n",
        "        fallthrough\n",
        "    default:\n",
        "    println(\"Number is  :\", num)\n",
        "}"
      ]
    },
    {
      "cell_type": "code",
      "metadata": {
        "tags": []
      },
      "source": [
        "%% // switch: using other types than const integers\n",
        "names := []string{\"Tom\", \"Anna\", \"Bob\", \"Walter\"}\n",
        "switch name := names[rand.Int() % 4]; name {\n",
        "    case \"Tom\":\n",
        "    println(\"My name is: \", name)\n",
        "    case \"Anna\", \"Bob\":\n",
        "    println(\"Hey Ho.. I'm: \", name)\n",
        "    case \"Walter\":\n",
        "    println(\"Nice to meet you: \", name)\n",
        "}"
      ]
    },
    {
      "cell_type": "markdown",
      "metadata": {},
      "source": [
        "## Loops"
      ]
    },
    {
      "cell_type": "markdown",
      "metadata": {},
      "source": [
        "### Counter"
      ]
    },
    {
      "cell_type": "code",
      "metadata": {
        "scrolled": true,
        "tags": []
      },
      "source": [
        "%% // loop: standard bounded loop with counter variable\n",
        "for i := 0; i <= 5; i++ {\n",
        "    println(i)\n",
        "}"
      ]
    },
    {
      "cell_type": "markdown",
      "metadata": {},
      "source": [
        "### Ranges"
      ]
    },
    {
      "cell_type": "code",
      "metadata": {
        "tags": []
      },
      "source": [
        "%% // loop: using range on slices and arrays (using indices and values)\n",
        "for index, value := range []string{\"a1\", \"a2\", \"a3\"} {\n",
        "    println(\"Slice: \",index, value)\n",
        "}\n",
        "for index, value := range [3]string{\"a1\", \"a2\", \"a3\"} {\n",
        "    println(\"Array: \", index, value)\n",
        "}"
      ]
    },
    {
      "cell_type": "code",
      "metadata": {
        "tags": []
      },
      "source": [
        "%% // loop: range on slice ignoring the index (using the value only)\n",
        "for _, value := range []string{\"a1\", \"a2\", \"a3\"} {\n",
        "    println(value)\n",
        "}"
      ]
    },
    {
      "cell_type": "code",
      "metadata": {
        "tags": []
      },
      "source": [
        "%% // loop: range on slice ignoring the value (using the index only)\n",
        "for index, _ := range []string{\"a1\", \"a2\", \"a3\"} {\n",
        "    println(index)\n",
        "}"
      ]
    },
    {
      "cell_type": "code",
      "metadata": {
        "tags": []
      },
      "source": [
        "%% // loop: range on map (using keys and values)\n",
        "for key, val := range map[string]int{\"a1\": 32, \"a2\":99, \"a3\":150} {\n",
        "    println(\"Map  : \",key, val)\n",
        "}"
      ]
    },
    {
      "cell_type": "markdown",
      "metadata": {},
      "source": [
        "### Conditional and endless"
      ]
    },
    {
      "cell_type": "code",
      "metadata": {
        "tags": []
      },
      "source": [
        "%% // loop: like \"while\"-loops with condition on top\n",
        "i := 0\n",
        "running := true\n",
        "for running {\n",
        "    if i > 10 {\n",
        "        running = false\n",
        "    }\n",
        "    println(i)\n",
        "    i++\n",
        "}"
      ]
    },
    {
      "cell_type": "code",
      "metadata": {
        "tags": []
      },
      "source": [
        "%% // loop: like \"while-true\"-loop and using break\n",
        "i := 0\n",
        "for {\n",
        "    if i > 10 {\n",
        "        break\n",
        "    }\n",
        "    println(i)\n",
        "    i++\n",
        "}"
      ]
    },
    {
      "cell_type": "markdown",
      "metadata": {},
      "source": [
        "### Break and continue"
      ]
    },
    {
      "cell_type": "code",
      "metadata": {
        "tags": []
      },
      "source": [
        "%% // loop: two nested \"while-true\"-loops using break and continue within the inner loop\n",
        "//       to control the outer loop (=> based on \"labels\") \n",
        "i := 0\n",
        "outerloop:\n",
        "    for {\n",
        "        println(\"------\")\n",
        "        i++\n",
        "        j := 5\n",
        "        for {\n",
        "            print(i, j)\n",
        "            if i == 5 {\n",
        "                println(\" [-]\")\n",
        "                break outerloop\n",
        "            }\n",
        "            if j == i {\n",
        "                println(\" [O]\")\n",
        "                continue outerloop\n",
        "            }\n",
        "            j--\n",
        "            print(\" [X]\\n\")\n",
        "        }\n",
        "    }"
      ]
    },
    {
      "cell_type": "markdown",
      "metadata": {},
      "source": [
        "# Functions [^](#Overview)"
      ]
    },
    {
      "cell_type": "markdown",
      "metadata": {
        "tags": []
      },
      "source": [
        "## Basics"
      ]
    },
    {
      "cell_type": "code",
      "metadata": {
        "tags": []
      },
      "source": [
        "// function: simple, one argument <string>, no return values\n",
        "func hello(name string) {\n",
        "    fmt.Printf(\"Hello %s.\\n\", name)\n",
        "}\n",
        "\n",
        "%%\n",
        "hello(\"Gopher\")"
      ]
    },
    {
      "cell_type": "code",
      "metadata": {
        "tags": []
      },
      "source": [
        "// function: simple, one argument <int>, no return values\n",
        "func tooOld(age int) {\n",
        "    fmt.Printf(\"Oh, sorry. Really? %d?\\n\", age)\n",
        "}\n",
        "%%\n",
        "tooOld(56)"
      ]
    },
    {
      "cell_type": "code",
      "metadata": {
        "tags": []
      },
      "source": [
        "// function: simple, two arguments <string, int>, no return values\n",
        "// utilizes the previous two functions\n",
        "func helloTooOld(name string, age int) {\n",
        "    hello(name)\n",
        "    tooOld(age)\n",
        "}\n",
        "%%\n",
        "helloTooOld(\"Gopher\", 56)"
      ]
    },
    {
      "cell_type": "markdown",
      "metadata": {
        "tags": []
      },
      "source": [
        "### Return values"
      ]
    },
    {
      "cell_type": "code",
      "metadata": {
        "tags": []
      },
      "source": [
        "// function: simple, one argument <string>, one return value\n",
        "func hello(name string) string {\n",
        "    return fmt.Sprintf(\"Hello %s.\\n\", name)\n",
        "}\n",
        "%%\n",
        "print(hello(\"Gopher\"))"
      ]
    },
    {
      "cell_type": "code",
      "metadata": {
        "tags": []
      },
      "source": [
        "// function: simple, one argument <int>, one return value\n",
        "func tooOld(age int) string {\n",
        "    return fmt.Sprintf(\"Oh, sorry. Really? %d?\\n\", age)\n",
        "}\n",
        "%%\n",
        "print(tooOld(56))"
      ]
    },
    {
      "cell_type": "markdown",
      "metadata": {
        "tags": []
      },
      "source": [
        "### Multiple return values"
      ]
    },
    {
      "cell_type": "code",
      "metadata": {
        "tags": []
      },
      "source": [
        "// function: simple, two arguments <string, int>, two return values\n",
        "// utilizes the previous two functions\n",
        "func helloTooOld(name string, age int) (string, string) {\n",
        "    return hello(name), tooOld(age)\n",
        "}\n",
        "\n",
        "%% // get both returned values and print them\n",
        "greeting, regrets := helloTooOld(\"Gopher\", 56)\n",
        "print(greeting, regrets)"
      ]
    },
    {
      "cell_type": "code",
      "metadata": {
        "tags": []
      },
      "source": [
        "// function: taking two arguments matching the return values of\n",
        "// the function above (helloTooOld)\n",
        "func printAnswer(greeting string, regrets string) {\n",
        "    fmt.Printf(\"%s%s\", greeting, regrets)\n",
        "}\n",
        "\n",
        "%% // Thus one can be called directly within the arguments section of the other.\n",
        "printAnswer(helloTooOld(\"Gopher\", 56))"
      ]
    },
    {
      "cell_type": "code",
      "metadata": {
        "tags": []
      },
      "source": [
        "// function: taking two arguments matching the return values of the function \n",
        "// above (helloTooOld) but returning a slice instead of two return values\n",
        "func helloTooOld(name string, age int) []string {\n",
        "    return []string{hello(name), tooOld(age)}\n",
        "}\n",
        "%% // the returned slice cannot be used as variadic argument \n",
        "greeting := helloTooOld(\"Gopher\", 56)\n",
        "fmt.Printf(\"%s%s\" , greeting[0], greeting[1])"
      ]
    },
    {
      "cell_type": "code",
      "metadata": {
        "tags": []
      },
      "source": [
        "// function: attempt two map returned slice to printf\n",
        "func printAnswer(greeting []string) {\n",
        "    if len(greeting) >= 2 {\n",
        "        fmt.Printf(\"%s%s\", greeting[0], greeting[1])\n",
        "        return\n",
        "    }\n",
        "    fmt.Printf(\"greeting's too short: %v\", greeting)\n",
        "}\n",
        "%%\n",
        "printAnswer(helloTooOld(\"Gopher\", 56))"
      ]
    },
    {
      "cell_type": "code",
      "metadata": {
        "tags": []
      },
      "source": [
        "%% // function: handles slice with just one entry instead of two\n",
        "printAnswer([]string{hello(\"Gopher\")})"
      ]
    },
    {
      "cell_type": "code",
      "metadata": {
        "tags": []
      },
      "source": [
        "// function(s): returns first argument of its variadic \n",
        "// and type-agnostic argument list\n",
        "func first(args ...interface{}) interface{} { \n",
        "    return args[0]\n",
        "}\n",
        "\n",
        "// function(s): same, but returns second argument\n",
        "func second(args ...interface{}) interface{} { \n",
        "    return args[1]\n",
        "}\n",
        "\n",
        "// function(s): returns two dummy values\n",
        "func twoReturnValues() (int, int) {\n",
        "    return 1, 2\n",
        "}\n",
        "\n",
        "%%\n",
        "fmt.Println(first(twoReturnValues()))\n",
        "fmt.Println(second(twoReturnValues()))"
      ]
    },
    {
      "cell_type": "markdown",
      "metadata": {
        "tags": []
      },
      "source": [
        "### Returning errors"
      ]
    },
    {
      "cell_type": "code",
      "metadata": {
        "tags": []
      },
      "source": [
        "// function: \"helloTooOld\" verion returning slice of strings and an error\n",
        "func helloTooOld(name string, age int) ([]string, error) {\n",
        "    var err error\n",
        "    regrets := tooOld(age)\n",
        "    if age <= 0 || age >= 110 {\n",
        "        regrets = fmt.Sprintf(\"%d??? What!? I don't believe you!!!\\n\", age)\n",
        "        err = fmt.Errorf(\"age out of believable bounds: %d\", age)\n",
        "    } \n",
        "    return []string{hello(name), regrets}, err\n",
        "}\n",
        "\n",
        "// function: \"printGreeting\" taking slice of strings and an error\n",
        "func printGreeting(greeting []string, _ error) {\n",
        "    if len(greeting) >= 2 {\n",
        "        fmt.Printf(\"%s%s\", greeting[0], greeting[1])\n",
        "        return\n",
        "    }\n",
        "    fmt.Printf(\"greeting's too short: %v\", greeting)\n",
        "}\n",
        "\n",
        "%%\n",
        "printGreeting(helloTooOld(\"Gopher\", 56))"
      ]
    },
    {
      "cell_type": "code",
      "metadata": {
        "tags": []
      },
      "source": [
        "// function: \"printAnswer\" version taking slice of strings and an error\n",
        "// and handling the error properly\n",
        "func printAnswer(greeting []string, err error) {\n",
        "    printGreeting(greeting, nil)\n",
        "    if err != nil {\n",
        "        fmt.Printf(\"error: %s\", err)\n",
        "    }\n",
        "}\n",
        "\n",
        "%% // that's the way it looks without errors\n",
        "printAnswer(helloTooOld(\"Gopher\", 56))"
      ]
    },
    {
      "cell_type": "code",
      "metadata": {
        "tags": []
      },
      "source": [
        "%% // that's the way it looks with an error\n",
        "printAnswer(helloTooOld(\"Gopher\", 200))"
      ]
    },
    {
      "cell_type": "markdown",
      "metadata": {
        "tags": []
      },
      "source": [
        "## Polymorphism? No.\n",
        "\n",
        "Golang doesn't support polymorphism of function signatures."
      ]
    },
    {
      "cell_type": "code",
      "metadata": {
        "tags": []
      },
      "source": [
        "// redefining \"tooOld\" with \"uint\" instead of \"int\"\n",
        "func tooOld(age uint) {\n",
        "    fmt.Printf(\"Oh, sorry. Really? %d?\\n\", age)\n",
        "}\n",
        "\n",
        "%% // fails due to lack of polymorphism\n",
        "tooOld(56)"
      ]
    },
    {
      "cell_type": "code",
      "metadata": {
        "tags": []
      },
      "source": [
        "// In Jupyter notebook it seems OK to redefine functions\n",
        "// within the same cell\n",
        "func add(a, b int) int {\n",
        "\treturn a + b\n",
        "}\n",
        "\n",
        "func add(a, b float64) float64 {\n",
        "\treturn a + b\n",
        "}\n",
        "\n",
        "%% // Here the output\n",
        "fmt.Println(add(1,1))\n",
        "fmt.Println(add(3.8,1.0))"
      ]
    },
    {
      "cell_type": "code",
      "metadata": {
        "tags": []
      },
      "source": [
        "// Let us extend the functions with an identifier, so that we can see \n",
        "// which one has been really called\n",
        "func add(a, b int) (int, string) {\n",
        "\treturn a + b, \"int\"\n",
        "}\n",
        "\n",
        "func add(a, b float64) (float64, string) {\n",
        "\treturn a + b, \"float\"\n",
        "}\n",
        "\n",
        "%% // It's always the float version\n",
        "fmt.Println(first(add(1,1)), second(add(1,1)))\n",
        "fmt.Println(first(add(3.8,1.0)), second(add(3.8,1.0)))"
      ]
    },
    {
      "cell_type": "markdown",
      "metadata": {
        "tags": []
      },
      "source": [
        "## Polymorphism? Not even in gophernotes...\n",
        "\n",
        "What happens when compiling a construct like above?"
      ]
    },
    {
      "cell_type": "code",
      "metadata": {
        "tags": []
      },
      "source": [
        "// The compiler isn't that friendly ;-)\n",
        "!goexample signature/invalid"
      ]
    },
    {
      "cell_type": "markdown",
      "metadata": {
        "tags": []
      },
      "source": [
        "## Why Polymorphism? Alternatives?\n",
        "\n",
        "Main reasons for polymorphism might be:\n",
        "* Doing the same stuff with different types\n",
        "* Doing the same stuff with a different number of arguments (of the same type)\n",
        "* Maybe for named arguments? "
      ]
    },
    {
      "cell_type": "markdown",
      "metadata": {
        "tags": []
      },
      "source": [
        "### Variadic functions\n",
        "\n",
        "This solves the second problem of doing the same stuff with a different number of arguments."
      ]
    },
    {
      "cell_type": "code",
      "metadata": {
        "tags": []
      },
      "source": [
        "// variadic argument lists can be treated like usual slices\n",
        "func variadicFunction(args ...string) {\n",
        "    for _, arg := range args {\n",
        "        fmt.Println(arg)\n",
        "    }\n",
        "}\n",
        "\n",
        "%%\n",
        "variadicFunction(\"Hello\")\n",
        "variadicFunction(\"Hello\", \"World\")"
      ]
    },
    {
      "cell_type": "markdown",
      "metadata": {
        "tags": []
      },
      "source": [
        "### Structs as arguments\n",
        "\n",
        "This can be an idea to solve the named argument thing."
      ]
    },
    {
      "cell_type": "code",
      "metadata": {
        "tags": []
      },
      "source": [
        "// Define a struct as an argument container for a function\n",
        "type args struct{\n",
        "    Name   string\n",
        "    Age    uint\n",
        "    Weight uint\n",
        "}\n",
        "\n",
        "func funcUsingStructAsArgContainer(args args) {\n",
        "    fmt.Println(args)\n",
        "}\n",
        "\n",
        "%% // Feels \"like\" using named arguments\n",
        "funcUsingStructAsArgContainer(args{Name: \"Gopher\"})\n",
        "funcUsingStructAsArgContainer(args{Age: 35})\n",
        "funcUsingStructAsArgContainer(args{Name: \"Gopher\", Age: 35})\n",
        "funcUsingStructAsArgContainer(args{Name: \"Gopher\", Age: 35, Weight: 4})"
      ]
    },
    {
      "cell_type": "markdown",
      "metadata": {},
      "source": [
        "### Functional options\n",
        "\n",
        "This idea allows named arguments while maintaining default values or additional error checks."
      ]
    },
    {
      "cell_type": "code",
      "metadata": {},
      "source": [
        "// an \"option\" is actually function that can operate on\n",
        "// the internal data structure, a function, module or package\n",
        "// uses\n",
        "type option func(args *args)\n",
        "\n",
        "// the signature of the function we want to adapt,\n",
        "// is a variadic argument list of options only\n",
        "func funcConfiguredByOptions(opts ...option) {\n",
        "\n",
        "    // The function provides the default values to be used when an \n",
        "    // option isn't provided explicitly by the caller\n",
        "    myargs := args {\n",
        "        Name:   \"Gopher\",\n",
        "        Age:    12,\n",
        "        Weight: 8,\n",
        "    }\n",
        "    \n",
        "    // every option is applied to the internal configuration\n",
        "    for _, setter := range opts {\n",
        "        setter(&myargs)\n",
        "    }\n",
        "    fmt.Println(myargs)\n",
        "}"
      ]
    },
    {
      "cell_type": "code",
      "metadata": {
        "tags": []
      },
      "source": [
        "// The interface to use an option is a higher order function taking the\n",
        "// value to be configured and returning an option-function\n",
        "func OptWeight(weight uint) option {\n",
        "    return func(args *args) {\n",
        "        args.Weight = weight\n",
        "    }\n",
        "}\n",
        "func OptName(name string) option {\n",
        "    return func(args *args) {\n",
        "        args.Name = name\n",
        "    }\n",
        "}\n",
        "func OptAge(age uint) option {\n",
        "    return func(args *args) {\n",
        "        args.Age = age\n",
        "    }\n",
        "}\n",
        "\n",
        "%% // different configurations through functional options\n",
        "funcConfiguredByOptions(OptName(\"Gopheuse\"))\n",
        "funcConfiguredByOptions(OptAge(99))\n",
        "funcConfiguredByOptions(OptAge(99), OptWeight(50))"
      ]
    },
    {
      "cell_type": "markdown",
      "metadata": {
        "jp-MarkdownHeadingCollapsed": true,
        "tags": []
      },
      "source": [
        "## Higher order functions\n",
        "\n",
        "<table><tr><td width=\"60%\">\n",
        "The options creators of the above example are \"higher order functions\":\n",
        "<li> Functions that take an argument and return a function\n",
        "<li> Functions taking functions as arguments and returning their results\n",
        "\n",
        "\n",
        "The web is full of content for this topic. One example is [this article](https://www.freecodecamp.org/news/higher-order-functions-in-javascript/) on higher order functions in JavaScript. The following figure is just a hyperlink to the article's figure:\n",
        "    </td><td>\n",
        "<center><img src=\"https://www.freecodecamp.org/news/content/images/size/w1000/2022/06/Group-35.png\" ></center></td>"
      ]
    },
    {
      "cell_type": "markdown",
      "metadata": {},
      "source": [
        "# Errors [^](#Overview)\n",
        "Golang doesn't support exceptions. Errors must be provided and evaluated whereever needed."
      ]
    },
    {
      "cell_type": "markdown",
      "metadata": {
        "tags": []
      },
      "source": [
        "## Error basics"
      ]
    },
    {
      "cell_type": "code",
      "metadata": {
        "tags": []
      },
      "source": [
        "// a dummy function returning an error in case both integer \n",
        "// arguments have the same value \n",
        "func doSomething(a,b int) (int, error) {\n",
        "    if a == b {\n",
        "        return 0, fmt.Errorf(\"equal a and b is invalid: %d, %d\", a, b)\n",
        "    }\n",
        "    return a + b, nil\n",
        "}\n",
        "\n",
        "%% // main\n",
        "r1, err1 := doSomething(1,2) // one call without an error\n",
        "r2, err2 := doSomething(1,1) // one call with an error\n",
        "fmt.Printf(\"Result %d: %d, error: %v\\n\", 1, r1, err1)\n",
        "fmt.Printf(\"Result %d: %d, error: %v\\n\", 2, r2, err2)"
      ]
    },
    {
      "cell_type": "markdown",
      "metadata": {
        "tags": []
      },
      "source": [
        "## Error chaining"
      ]
    },
    {
      "cell_type": "code",
      "metadata": {
        "tags": []
      },
      "source": [
        "// a second function wrapping the previous one, handling its error\n",
        "// and returning its own error, in case the retrieved result and a third\n",
        "// integer argument have the same value: \n",
        "//   * a==b       => error: inner func \n",
        "//   * a + b == c => error: outer func\n",
        "func doSomethingMore(a, b, c int) (int, error) {\n",
        "    r, err := doSomething(a, b)\n",
        "    if err != nil {\n",
        "        return 0, fmt.Errorf(\"something failed: %w\", err)\n",
        "    }\n",
        "    if r == c {\n",
        "        return 0, fmt.Errorf(\"results of doing something must not be c: %d, %d\", r, c)\n",
        "    }\n",
        "    return r + c, nil\n",
        "}\n",
        "\n",
        "%% // evaluate different settings and see how errors are \"chained\", when the\n",
        "// outer func wrappes the inner errors: <outer func error>: <inner func error>\n",
        "r1, err1 := doSomethingMore(1, 2, 4) // a != b, a + b != c => no error\n",
        "r2, err2 := doSomethingMore(1, 2, 3) // a + b == c => error outer func\n",
        "r3, err3 := doSomethingMore(1, 1, 3) // a == b     => error inner func\n",
        "\n",
        "fmt.Printf(\"Result %d: %d, error: %v\\n\", 1, r1, err1)\n",
        "fmt.Printf(\"Result %d: %d, error: %v\\n\", 2, r2, err2) \n",
        "fmt.Printf(\"Result %d: %d, error: %v\\n\", 3, r3, err3)"
      ]
    },
    {
      "cell_type": "code",
      "metadata": {
        "tags": []
      },
      "source": [
        "// Here we have a more complex example but actually the same thing\n",
        "import (\n",
        "\t\"database/sql\"\n",
        "\t\"errors\"\n",
        "\t\"fmt\"\n",
        "\n",
        "\tchain \"github.com/g8rswimmer/error-chain\"\n",
        ")\n",
        "\n",
        "// dummy entity\n",
        "type Entity struct{}\n",
        "\n",
        "// here we always return an error: sql.ErrNoRows\n",
        "func scanRow(row *sql.Row) (*Entity, error) {\n",
        "\treturn nil, sql.ErrNoRows\n",
        "}\n",
        "\n",
        "// dummy query func\n",
        "func query(id string) *sql.Row {\n",
        "\treturn &sql.Row{}\n",
        "}\n",
        "\n",
        "func FetchByID(id string) (*Entity, error) {\n",
        "\trow := query(id)\n",
        "    e, err := scanRow(row)                   // => always error==sql.ErrNoRows\n",
        "\tswitch {\n",
        "\tcase errors.Is(err, sql.ErrNoRows):\n",
        "        ec := chain.New()                    // => we setup an \"error chain\" and \n",
        "\t\tec.Add(fmt.Errorf(\"entity doesn't exist\"))       // add two more errors\n",
        "\t\tec.Add(fmt.Errorf(\"entity fetch error: %s\", id)) // and their messages\n",
        "\t\tec.Add(err)                          // before adding the sql.ErrNoRows\n",
        "\t\treturn nil, ec\n",
        "\tcase err != nil:\n",
        "\t\treturn nil, fmt.Errorf(\"entity fetch err: %s %w\", id, err)\n",
        "\tdefault:\n",
        "\t\treturn e, nil\n",
        "\t}\n",
        "}\n",
        "\n",
        "%% // return error-1, error-2 and sql.ErrNoRows\n",
        "_, err := FetchByID(\"DummyID\")\n",
        "fmt.Println(err)"
      ]
    },
    {
      "cell_type": "markdown",
      "metadata": {
        "tags": []
      },
      "source": [
        "## Custom errors\n",
        "\n",
        "In section [OOP et al.](#Custom-errors-continued..) we will have a deeper dive in custom errors as we didn't walk through all language important concepts yet."
      ]
    },
    {
      "cell_type": "markdown",
      "metadata": {
        "tags": []
      },
      "source": [
        "## Deferring functions\n",
        "\n",
        "An important concept in golang is the ability to defer actions to the end of a function call. This reduces the risk of missing neccessary cleanup tasks (e.g. closing files, disconnecting gracefully from a database, etc.) due to early returns. "
      ]
    },
    {
      "cell_type": "code",
      "metadata": {
        "tags": []
      },
      "source": [
        "// function adds three defers, each a println with \n",
        "// a numeric value in [1..3]\n",
        "func xyz() {\n",
        "\tfmt.Println(\"Hello\")\n",
        "\tfor i := 1; i <= 3; i++ {\n",
        "\t\tdefer fmt.Println(i)   // defer\n",
        "\t}\n",
        "\tfmt.Println(\"World\")\n",
        "}\n",
        "\n",
        "%% // defers are stacked and thus called in \n",
        "// the reverse order of their definition\n",
        "xyz()"
      ]
    },
    {
      "cell_type": "code",
      "metadata": {
        "tags": []
      },
      "source": [
        "// This example shows how defers can simplify code significantly \n",
        "import (\n",
        "    \"os\"\n",
        "    \"io\"\n",
        ")\n",
        "\n",
        "func CopyFile(dstName, srcName string) (written int64, err error) {\n",
        "\tsrc, err := os.Open(srcName)\n",
        "\tif err != nil {\n",
        "\t\treturn\n",
        "\t}\n",
        "\tdefer src.Close()\n",
        "\n",
        "\tdst, err := os.Create(dstName)\n",
        "\tif err != nil {\n",
        "\t\treturn\n",
        "\t}\n",
        "\tdefer dst.Close()\n",
        "\n",
        "\treturn io.Copy(dst, src)\n",
        "}"
      ]
    },
    {
      "cell_type": "code",
      "metadata": {
        "tags": []
      },
      "source": [
        "// Let's rewrite it without defers\n",
        "import (\n",
        "    \"os\"\n",
        "    \"io\"\n",
        ")\n",
        "\n",
        "func CopyFile(dstName, srcName string) (written int64, err error) {\n",
        "\tsrc, err := os.Open(srcName)\n",
        "\tif err != nil {\n",
        "\t\treturn\n",
        "\t}\n",
        "\n",
        "\tdst, err := os.Create(dstName)\n",
        "\tif err != nil {\n",
        "        src.Close()\n",
        "\t\treturn\n",
        "\t}\n",
        "    \n",
        "    written, err = io.Copy(dst, src) // must copy before closing handles\n",
        "    \n",
        "    src.Close()\n",
        "\tdst.Close()\n",
        "\n",
        "\treturn written, err\n",
        "}"
      ]
    },
    {
      "cell_type": "markdown",
      "metadata": {},
      "source": [
        "## Panic and recover\n",
        "\n",
        "**Panic** is a built-in function that stops the ordinary flow of control and begins panicking. When the function F calls panic, execution of F stops, any deferred functions in F are executed normally, and then F returns to its caller. To the caller, F then behaves like a call to panic. The process continues up the stack until all functions in the current goroutine have returned, at which point the program crashes. Panics can be initiated by invoking panic directly. They can also be caused by runtime errors, such as out-of-bounds array accesses.\n",
        "\n",
        "**Recover** is a built-in function that regains control of a panicking goroutine. Recover is only useful inside deferred functions. During normal execution, a call to recover will return nil and have no other effect. If the current goroutine is panicking, a call to recover will capture the value given to panic and resume normal execution."
      ]
    },
    {
      "cell_type": "code",
      "metadata": {
        "tags": []
      },
      "source": [
        "// Panics break the control flow. They seem similar to \n",
        "// exceptions. The keyword \"panic\" shall indicate how\n",
        "// exceptional a \"panic\" should be.\n",
        "\n",
        "// f() calls g() => g() panics, f() recovers panic\n",
        "func f(indent string) {\n",
        "    defer func() {\n",
        "        if r := recover(); r != nil {\n",
        "            fmt.Println(indent, \"Recovered in f\", r)\n",
        "        }\n",
        "    }()\n",
        "    fmt.Println(indent, \"Calling g.\")\n",
        "    g(0, indent + \" \")\n",
        "    fmt.Println(\"Returned normally from g.\")\n",
        "}\n",
        "\n",
        "// g() panics\n",
        "func g(i int, indent string) {\n",
        "    if i > 3 {\n",
        "        fmt.Println(indent, \"Panicking!\")\n",
        "        panic(fmt.Sprintf(\"%v\", i))\n",
        "    }\n",
        "    defer fmt.Println(indent, \"Defer in g\", i)\n",
        "    fmt.Println(indent, \"Printing in g\", i)\n",
        "    g(i + 1, indent + \" \")\n",
        "}\n",
        "\n",
        "%% // call f()\n",
        "fmt.Println(\"Calling f.\")\n",
        "f(\" \")\n",
        "fmt.Println(\"Returned normally from f.\")"
      ]
    },
    {
      "cell_type": "code",
      "metadata": {
        "tags": []
      },
      "source": [
        "import \"time\"\n",
        "\n",
        "// e() calls f() calls g() => g() panics, f() ignores panic\n",
        "// e() recovers\n",
        "func e(indent string) {\n",
        "    defer func() {\n",
        "        fmt.Println(indent, \"Defer in e\")\n",
        "        if r := recover(); r != nil {\n",
        "            fmt.Println(indent, \"Recovered in e\", r)\n",
        "        }\n",
        "    }()\n",
        "    fmt.Println(indent, \"Calling f.\")\n",
        "    f(indent + \" \")\n",
        "    fmt.Println(indent, \"Returned normally from f.\")\n",
        "}\n",
        "\n",
        "func f(indent string) {\n",
        "    fmt.Println(indent, \"Calling g.\")\n",
        "    g(0, indent + \" \")\n",
        "    fmt.Println(indent, \"Returned normally from g.\")\n",
        "}\n",
        "\n",
        "func g(i int, indent string) {\n",
        "    if i > 3 {\n",
        "        fmt.Println(indent, \"Panicking!\")\n",
        "        panic(fmt.Sprintf(\"%v\", i))\n",
        "    }\n",
        "    defer fmt.Println(indent, \"Defer in g\", i)\n",
        "    fmt.Println(indent, \"Printing in g\", i)\n",
        "    g(i + 1, indent + \" \")\n",
        "}\n",
        "\n",
        "%% // call e()\n",
        "fmt.Println(\"Calling e.\")\n",
        "e(\" \")\n",
        "fmt.Println(\"Returned normally from e.\")"
      ]
    },
    {
      "cell_type": "markdown",
      "metadata": {},
      "source": [
        "# Concurrency [^](#Overview)\n",
        "\n",
        "Go's deals with concurrency by using an implementaion of [CSPs](https://en.wikipedia.org/wiki/Communicating_sequential_processes) (Communicating Sequential Processes) as introduced 1978 by Tony Hoare. The basic idea is to have light weight (non-parallel) processes which communicate via dedicated \"channels\". There are some similarities to the [Actor Model](https://en.wikipedia.org/wiki/Actor_modelhttps://en.wikipedia.org/wiki/Actor_model) but also some differences. But the general spirit is actually quiet the same. In [Golang's documentation](https://go.dev/doc/effective_go#concurrency) this idea is condensed as:\n",
        "\n",
        "> Do not communicate by sharing memory; instead, share memory by communicating.\n",
        "\n"
      ]
    },
    {
      "cell_type": "markdown",
      "metadata": {},
      "source": [
        "## Goroutines"
      ]
    },
    {
      "cell_type": "code",
      "metadata": {
        "tags": []
      },
      "source": [
        "import (\n",
        "    \"time\"\n",
        "    \"fmt\"\n",
        ")\n",
        "\n",
        "// count to 10 (waiting 100ms per step)\n",
        "func count() {\n",
        "    for i := 0; i<10; i++ {\n",
        "        fmt.Print(i,\" \")\n",
        "        time.Sleep(100*time.Millisecond)\n",
        "    }\n",
        "}"
      ]
    },
    {
      "cell_type": "code",
      "metadata": {
        "tags": []
      },
      "source": [
        "%% // start it without waiting for it\n",
        "go count()\n",
        "println(\"Done\")"
      ]
    },
    {
      "cell_type": "markdown",
      "metadata": {},
      "source": [
        "As we didn't wait, the main app ended before the go routine could print out anything. Let's what happens, when we wait."
      ]
    },
    {
      "cell_type": "code",
      "metadata": {
        "tags": []
      },
      "source": [
        "%% // start it, wait longer than the go routine needs\n",
        "go count()\n",
        "time.Sleep(2 * time.Second)\n",
        "println(\"Done\")"
      ]
    },
    {
      "cell_type": "markdown",
      "metadata": {},
      "source": [
        "## Waitgroups"
      ]
    },
    {
      "cell_type": "code",
      "metadata": {
        "tags": []
      },
      "source": [
        "import \"sync\"\n",
        "var wg sync.WaitGroup\n",
        "\n",
        "// This function just wrappes the previous count\n",
        "// and handles decrementing the wait group\n",
        "var wcount = func (s string) { \n",
        "    println(\"Starting: \" + s)\n",
        "    defer wg.Done()\n",
        "    defer println(\"Back from: \" + s)\n",
        "    count() \n",
        "}\n",
        "\n",
        "%% // start three go routines open the wait group for each\n",
        "wg.Add(1)\n",
        "go wcount(\"a\")\n",
        "\n",
        "wg.Add(1)\n",
        "go wcount(\"b\")\n",
        "\n",
        "wg.Add(1)\n",
        "go wcount(\"c\")\n",
        "\n",
        "wg.Wait()\n",
        "print(\"done\")"
      ]
    },
    {
      "cell_type": "markdown",
      "metadata": {},
      "source": [
        "## Channels"
      ]
    },
    {
      "cell_type": "code",
      "metadata": {
        "tags": []
      },
      "source": [
        "import \"time\"\n",
        "\n",
        "%% // The first channel we look at connects a function that \n",
        "// produces and one that consumes that data. The producing\n",
        "// function stays in the main app.\n",
        "\n",
        "c := make(chan int) // a channel of ints\n",
        "\n",
        "// anonymous consumer reading as longs as data is available\n",
        "go func() {\n",
        "    for i := range c {\n",
        "        print(i, \" \")\n",
        "    }\n",
        "    println()\n",
        "}()\n",
        "\n",
        "// loop writing 10 times\n",
        "for i, _ := range []int{1,2,3,4,5,6,7,8,9,10} {\n",
        "    time.Sleep(100 * time.Millisecond)\n",
        "    c <- i*2\n",
        "}\n"
      ]
    },
    {
      "cell_type": "markdown",
      "metadata": {
        "tags": []
      },
      "source": [
        "### Request / Response"
      ]
    },
    {
      "cell_type": "code",
      "metadata": {
        "tags": []
      },
      "source": [
        "// Channels also allow a kind of request/response pattern\n",
        "// similar to queue based comminication of MOMs. The requesting\n",
        "// partner places a response channel (queue) into its request,\n",
        "// at which it expects its answers.\n",
        "\n",
        "// The request struct (including a response channel)\n",
        "type addRequest struct {\n",
        "    response  chan int\n",
        "    summands  []int\n",
        "}\n",
        "\n",
        "// Sum-Function reads request from an input channel, sums\n",
        "// the given summands and responds via the given response\n",
        "// channel\n",
        "func SumRespond(c chan addRequest) {\n",
        "    result := 0\n",
        "    req := <- c\n",
        "    fmt.Println(\"Sums: received request: \", req.summands)\n",
        "    for _, s := range req.summands {\n",
        "        result = result + s\n",
        "    }\n",
        "    req.response <- result\n",
        "}\n",
        "\n",
        "// Sum-Function Handler creates a channel for the Sum-Function'S\n",
        "// go routine, starts the routine and returns the channel to\n",
        "// its caller.\n",
        "func SumRoutine() chan addRequest {\n",
        "    c := make(chan addRequest)\n",
        "    go SumRespond(c)\n",
        "    return c\n",
        "}"
      ]
    },
    {
      "cell_type": "code",
      "metadata": {
        "tags": []
      },
      "source": [
        "%% // Setup a sum routine, send a sum request and \n",
        "// wait for the response\n",
        "requestChannel := SumRoutine()\n",
        "request := addRequest{\n",
        "    response: make(chan int),\n",
        "    summands: []int{5, 10, 15, 70},\n",
        "}\n",
        "fmt.Println(\"Requesting sum of: \", request.summands)\n",
        "requestChannel <- request\n",
        "\n",
        "fmt.Println(\"Received response: \", <- request.response)"
      ]
    },
    {
      "cell_type": "markdown",
      "metadata": {
        "tags": []
      },
      "source": [
        "#### Looping... deeper down the rabbit hole"
      ]
    },
    {
      "cell_type": "code",
      "metadata": {
        "tags": []
      },
      "source": [
        "// Let's put run the sum routine in a loop \n",
        "func SumRespondLoop(c chan addRequest) {\n",
        "    for {\n",
        "        fmt.Println(\"Awaiting sum request\")\n",
        "        SumRespond(c)\n",
        "        fmt.Println(\"Next loop\")\n",
        "    }\n",
        "}\n",
        "\n",
        "// The request channel is created and returned from here\n",
        "func MakeSumRespondLoop() chan addRequest {\n",
        "    c := make(chan addRequest)\n",
        "    go SumRespondLoop(c)\n",
        "    return c\n",
        "}\n",
        "\n",
        "var requestChannel = MakeSumRespondLoop()"
      ]
    },
    {
      "cell_type": "code",
      "metadata": {
        "tags": []
      },
      "source": [
        "%% // Setup a channel and a processing loop and send one request\n",
        "request := addRequest{\n",
        "    make(chan int),\n",
        "    []int{5, 10, 15, 70},\n",
        "}\n",
        "\n",
        "fmt.Println(\"Requesting sum of: \", request.summands)\n",
        "requestChannel <- request\n",
        "fmt.Println(\"Received response: \", <- request.response)"
      ]
    },
    {
      "cell_type": "markdown",
      "metadata": {},
      "source": [
        "Reexecuting the previous cell shows that our \"service\" loop is working. "
      ]
    },
    {
      "cell_type": "markdown",
      "metadata": {
        "tags": []
      },
      "source": [
        "### With concurrency comes... Deadlocks...!!?!?\n",
        "\n",
        "These examples will block."
      ]
    },
    {
      "cell_type": "code",
      "metadata": {
        "tags": []
      },
      "source": [
        "%% // We setup the service loop and the channel, then we send\n",
        "// to requests one after another. In the end, we want to read \n",
        "// out our two responses\n",
        "requestChannel := MakeSumRespondLoop()\n",
        "\n",
        "// create two requests\n",
        "req1 := addRequest{make(chan int), []int{5, 5, 10, 80}}\n",
        "req2 := addRequest{make(chan int), []int{10, 5, 10, 75}}\n",
        "\n",
        "// send two requests\n",
        "fmt.Println(\"Requesting sum of: \", req1.summands)\n",
        "requestChannel <- req1\n",
        "fmt.Println(\"Requesting sum of: \", req2.summands)\n",
        "requestChannel <- req2\n",
        "\n",
        "// read two requests\n",
        "fmt.Println(\"Received response: \", <- req1.response)\n",
        "fmt.Println(\"Received response: \", <- req2.response)"
      ]
    },
    {
      "cell_type": "markdown",
      "metadata": {},
      "source": [
        "Let's try to visualize it.\n",
        "```\n",
        " Client-1        Client-2        ServiceLoop\n",
        "    |               |               |\n",
        "t0  |------------------------------>| t2 C1 (recv) \n",
        "    |            t1 |------------>X | t3? C2 \n",
        "t4? |  X <--------------------------| t2 C1 (send resp)\n",
        "\n",
        "```"
      ]
    },
    {
      "cell_type": "code",
      "metadata": {
        "tags": []
      },
      "source": [
        "%% // a similar, but simpler example:\n",
        "in := make(chan int)  \n",
        "out := make(chan int)\n",
        "\n",
        "// read from in, write to out\n",
        "go func() { for { \n",
        "    r := <-in // keeps reading channel...\n",
        "    out <-r   // and writing...\n",
        "} }() \n",
        "\n",
        "// two inputs\n",
        "in <- 1\n",
        "in <- 2\n",
        "\n",
        "// What's the output?\n",
        "println(<-out)"
      ]
    },
    {
      "cell_type": "markdown",
      "metadata": {
        "tags": []
      },
      "source": [
        "#### Buffered channel size to the rescue..."
      ]
    },
    {
      "cell_type": "code",
      "metadata": {
        "tags": []
      },
      "source": [
        "// The same setting, but this time, we will use a \"buffered\"\n",
        "// channel\n",
        "func MakeSumRespondLoop() chan addRequest {\n",
        "    c := make(chan addRequest, 2)\n",
        "    go SumRespondLoop(c)\n",
        "    return c\n",
        "}\n",
        "\n",
        "var responseChannel = MakeSumRespondLoop()"
      ]
    },
    {
      "cell_type": "code",
      "metadata": {
        "tags": []
      },
      "source": [
        "%% // Same setting as with the unbuffered channel\n",
        "req1 := addRequest{make(chan int), []int{5, 5, 10, 80}}\n",
        "req2 := addRequest{make(chan int), []int{10, 10, 80, 100}}\n",
        "\n",
        "fmt.Println(\"Requesting sum of (req1): \", req1.summands)\n",
        "responseChannel <- req1\n",
        "fmt.Println(\"Requesting sum of (req2): \", req2.summands)\n",
        "responseChannel <- req2\n",
        "\n",
        "fmt.Println(\"Received response (req1): \", <- req1.response)\n",
        "fmt.Println(\"Received response (req2): \", <- req2.response)"
      ]
    },
    {
      "cell_type": "markdown",
      "metadata": {
        "tags": []
      },
      "source": [
        "#### ...and blocking..."
      ]
    },
    {
      "cell_type": "code",
      "metadata": {
        "tags": []
      },
      "source": [
        "%% // Same setting as with the unbuffered channel\n",
        "req1 := addRequest{make(chan int), []int{5, 5, 10, 80}}\n",
        "req2 := addRequest{make(chan int), []int{10, 10, 80, 100}}\n",
        "\n",
        "fmt.Println(\"Requesting sum of (req1): \", req1.summands)\n",
        "responseChannel <- req1\n",
        "fmt.Println(\"Requesting sum of (req2): \", req2.summands)\n",
        "responseChannel <- req2\n",
        "\n",
        "fmt.Println(\"Received response (req2): \", <- req2.response)\n",
        "//                         ^\n",
        "//                         I\n",
        "//                         v\n",
        "fmt.Println(\"Received response (req1): \", <- req1.response)"
      ]
    },
    {
      "cell_type": "markdown",
      "metadata": {},
      "source": [
        "### Closing channels\n",
        "\n",
        "**The Channel Closing Principle**\n",
        "\n",
        "One general principle of using Go channels is \n",
        "* don't close a channel from the receiver side and \n",
        "* don't close a channel if the channel has multiple concurrent senders\n",
        "\n",
        "In other words, we should only close a channel in a sender goroutine if the sender is the only sender of the channel."
      ]
    },
    {
      "cell_type": "code",
      "metadata": {
        "tags": []
      },
      "source": [
        "import \"time\"\n",
        "import \"sync\"\n",
        "\n",
        "%% // 1 producer / 10 consumer\n",
        "c := make(chan int)\n",
        "\n",
        "// 1 producer\n",
        "//   stops sending every 30 seconds and closes the channel\n",
        "go func() {\n",
        "    for {\n",
        "        time.Sleep(500 * time.Millisecond)\n",
        "        c <- time.Now().Second()\n",
        "        if time.Now().Second() % 30 == 0 {\n",
        "            close(c)\n",
        "            return\n",
        "        }\n",
        "    }\n",
        "}()\n",
        "\n",
        "// 10 consumer\n",
        "var wg sync.WaitGroup\n",
        "for i := 0; i<10; i++ {\n",
        "    wg.Add(1)\n",
        "    go func(i int) {\n",
        "        defer wg.Done()\n",
        "        for {\n",
        "            r := <-c\n",
        "            fmt.Println(\"Consumer:\", i, \" \", r)\n",
        "            if r == 0 {\n",
        "                return\n",
        "            }\n",
        "        }\n",
        "    }(i)\n",
        "}\n",
        "\n",
        "wg.Wait()"
      ]
    },
    {
      "cell_type": "markdown",
      "metadata": {},
      "source": [
        "### Select statements"
      ]
    },
    {
      "cell_type": "markdown",
      "metadata": {},
      "source": [
        "#### Consuming multiple channels?"
      ]
    },
    {
      "cell_type": "code",
      "metadata": {},
      "source": [
        "import \"time\"\n",
        "\n",
        "// 1 producer\n",
        "func IntProducer (c chan int) {\n",
        "    for {\n",
        "        time.Sleep(500 * time.Millisecond)\n",
        "        c <- time.Now().Second()\n",
        "        if time.Now().Second() % 5 == 0 {\n",
        "            close(c)\n",
        "            return\n",
        "        }\n",
        "    }\n",
        "}\n",
        "\n",
        "// 1 producer\n",
        "func StringProducer (c chan string) {\n",
        "    for {\n",
        "        time.Sleep(500 * time.Millisecond)\n",
        "        c <- time.Now().String()\n",
        "        if time.Now().Second() % 10 == 0 {\n",
        "            close(c)\n",
        "            return\n",
        "        }\n",
        "    }\n",
        "}\n",
        "\n",
        "// select: Allows a routine to be responsive on more than\n",
        "// one channel\n",
        "func Consumer(c1 chan int, c2 chan string) {\n",
        "    for {\n",
        "        select {\n",
        "        case r := <-c1:\n",
        "            println(\"Consumer: int   :\", r)\n",
        "            if r == 0 {\n",
        "                return\n",
        "            }\n",
        "        case r := <-c2:\n",
        "            println(\"Consumer: string:\", r)\n",
        "        }\n",
        "    }\n",
        "}"
      ]
    },
    {
      "cell_type": "code",
      "metadata": {
        "tags": []
      },
      "source": [
        "%%\n",
        "c1 := make(chan int)\n",
        "go IntProducer(c1)\n",
        "\n",
        "c2 := make(chan string)\n",
        "go StringProducer(c2)\n",
        "\n",
        "Consumer(c1, c2)"
      ]
    },
    {
      "cell_type": "markdown",
      "metadata": {},
      "source": [
        "#### Select with default"
      ]
    },
    {
      "cell_type": "code",
      "metadata": {
        "tags": []
      },
      "source": [
        "// select:default: Allows the consumer to operate non-blocking\n",
        "func Consumer(c1 chan int, c2 chan string) {\n",
        "    for {\n",
        "        select {\n",
        "        case r := <-c1:\n",
        "            println(\"Consumer: int   :\", r)\n",
        "            if r == 0 {\n",
        "                return\n",
        "            }\n",
        "        case r := <-c2:\n",
        "            println(\"Consumer: string:\", r)\n",
        "        default:\n",
        "            println(\"Consumer: Waiting.\")\n",
        "            time.Sleep(250 * time.Millisecond)\n",
        "        }\n",
        "    }\n",
        "}"
      ]
    },
    {
      "cell_type": "code",
      "metadata": {
        "tags": []
      },
      "source": [
        "%%\n",
        "c1 := make(chan int)\n",
        "go IntProducer(c1)\n",
        "\n",
        "c2 := make(chan string)\n",
        "go StringProducer(c2)\n",
        "\n",
        "Consumer(c1, c2)"
      ]
    },
    {
      "cell_type": "markdown",
      "metadata": {},
      "source": [
        "#### Consume and produce"
      ]
    },
    {
      "cell_type": "code",
      "metadata": {
        "tags": []
      },
      "source": [
        "import \"fmt\"\n",
        "import \"time\"\n",
        "\n",
        "// select work also for producers\n",
        "func Prosumer(in chan int, out chan string) {\n",
        "    r := 0\n",
        "    for {\n",
        "        \n",
        "        select {\n",
        "        case r = <-in:\n",
        "            println(\"Prosumer: read :\", r)\n",
        "        case out <- fmt.Sprintf(\"%d\", r):\n",
        "            println(\"Prosumer: write:\", r)\n",
        "            if r == 0 {\n",
        "                close(out)\n",
        "                return\n",
        "            }\n",
        "        default:\n",
        "            println(\"Prosumer: Waiting.\")\n",
        "            time.Sleep(250 * time.Millisecond)\n",
        "        }\n",
        "    }\n",
        "}"
      ]
    },
    {
      "cell_type": "code",
      "metadata": {
        "tags": []
      },
      "source": [
        "%% \n",
        "c1 := make(chan int)\n",
        "c2 := make(chan string)\n",
        "\n",
        "go Prosumer(c1, c2)\n",
        "go func() { for {\n",
        "        s := <-c2\n",
        "        if len(s) == 0 {\n",
        "            return\n",
        "        }\n",
        "        println(\"Consumed: [\", s, \"]\")\n",
        "    } \n",
        "}()\n",
        "\n",
        "for i := 5; i >= 0; i-- {\n",
        "    c1 <- i\n",
        "    time.Sleep(250 * time.Millisecond)\n",
        "}\n",
        "\n",
        "close (c1)"
      ]
    },
    {
      "cell_type": "markdown",
      "metadata": {},
      "source": [
        "### Timer events"
      ]
    },
    {
      "cell_type": "code",
      "metadata": {
        "tags": []
      },
      "source": [
        "import \"fmt\"\n",
        "import \"time\"\n",
        "\n",
        "// select enables timers\n",
        "func Consumer(in chan int) {\n",
        "    t := time.NewTimer(1 * time.Second)\n",
        "    for { \n",
        "        select {\n",
        "        case r := <-in:\n",
        "            println(\"Consumer: read :\", r)\n",
        "            t.Reset(1 * time.Second)\n",
        "        case <- t.C:\n",
        "            println(\"No input for a long time.... Bye.\")\n",
        "            return\n",
        "        default:\n",
        "            println(\"Waiting...\")\n",
        "            time.Sleep(250 * time.Millisecond)\n",
        "        }\n",
        "    }\n",
        "}"
      ]
    },
    {
      "cell_type": "code",
      "metadata": {
        "tags": []
      },
      "source": [
        "%%\n",
        "in := make(chan int)\n",
        "\n",
        "go func() {\n",
        "    in <- 1\n",
        "    time.Sleep(500 * time.Millisecond)\n",
        "    in <- 2\n",
        "    time.Sleep(900 * time.Millisecond)\n",
        "    in <- 3\n",
        "    time.Sleep(1100 * time.Millisecond)\n",
        "}()\n",
        "\n",
        "Consumer(in)"
      ]
    },
    {
      "cell_type": "markdown",
      "metadata": {},
      "source": [
        "## Contexts: Controlled concurrency?"
      ]
    },
    {
      "cell_type": "code",
      "metadata": {
        "tags": []
      },
      "source": [
        "import \"fmt\"\n",
        "import \"time\"\n",
        "import \"context\"\n",
        "\n",
        "func Consumer(ctx context.Context, name string, in chan int) {\n",
        "    for { \n",
        "        select {\n",
        "        case <-ctx.Done():\n",
        "            fmt.Println(\".\", \"DONE:\", name)\n",
        "            return\n",
        "        case r := <-in:\n",
        "            println(\"Consumer: read :\", r)\n",
        "        default:\n",
        "            fmt.Print(\".\")\n",
        "            time.Sleep(250 * time.Millisecond)\n",
        "        }\n",
        "    }\n",
        "}"
      ]
    },
    {
      "cell_type": "markdown",
      "metadata": {},
      "source": [
        "### Cancel goroutines actively"
      ]
    },
    {
      "cell_type": "code",
      "metadata": {
        "tags": []
      },
      "source": [
        "%%\n",
        "in := make(chan int)\n",
        "ctx, cancel := context.WithCancel(context.Background())\n",
        "\n",
        "\n",
        "go func() {\n",
        "    in <- 1\n",
        "    time.Sleep(500 * time.Millisecond)\n",
        "    in <- 2\n",
        "    time.Sleep(900 * time.Millisecond)\n",
        "    in <- 3\n",
        "    time.Sleep(1100 * time.Millisecond) // CANCEL!!! (>=2.5s)\n",
        "    cancel()\n",
        "}()\n",
        "\n",
        "Consumer(ctx, \"gopher\", in)"
      ]
    },
    {
      "cell_type": "markdown",
      "metadata": {},
      "source": [
        "### Cancel goroutines time driven"
      ]
    },
    {
      "cell_type": "code",
      "metadata": {
        "tags": []
      },
      "source": [
        "%% // DEADLINE => CANCEL >= 5s\n",
        "ctx, _ := context.WithDeadline(\n",
        "    context.Background(), \n",
        "    time.Now().Add(5 * time.Second),\n",
        ")\n",
        "\n",
        "in := make(chan int)\n",
        "\n",
        "go func() { // loops of 2.5s\n",
        "    for {\n",
        "        in <- 1\n",
        "        time.Sleep(500 * time.Millisecond)\n",
        "        in <- 2\n",
        "        time.Sleep(900 * time.Millisecond)\n",
        "        in <- 3\n",
        "        time.Sleep(1100 * time.Millisecond)\n",
        "    }\n",
        "}()\n",
        "\n",
        "Consumer(ctx, \"gopher\", in)\n"
      ]
    },
    {
      "cell_type": "code",
      "metadata": {
        "tags": []
      },
      "source": [
        "%% // TIMEOUT: >= 5s\n",
        "in := make(chan int)\n",
        "\n",
        "ctx, _ := context.WithTimeout(\n",
        "    context.Background(), \n",
        "    5 * time.Second,\n",
        ")\n",
        "\n",
        "\n",
        "go func() { // loops of 2.5s\n",
        "    for {\n",
        "        in <- 1\n",
        "        time.Sleep(500 * time.Millisecond)\n",
        "        in <- 2\n",
        "        time.Sleep(900 * time.Millisecond)\n",
        "        in <- 3\n",
        "        time.Sleep(1100 * time.Millisecond)\n",
        "    }\n",
        "}()\n",
        "\n",
        "Consumer(ctx, \"gopher\", in)"
      ]
    },
    {
      "cell_type": "markdown",
      "metadata": {},
      "source": [
        "### Pass data"
      ]
    },
    {
      "cell_type": "code",
      "metadata": {
        "tags": []
      },
      "source": [
        "func ConsumerWithValue(ctx context.Context, in chan int) {\n",
        "    for { \n",
        "        select {\n",
        "        case r := <-in:\n",
        "            if ctx.Value(\"key\") == r {\n",
        "                fmt.Println(\"done by value\")\n",
        "                return\n",
        "            }\n",
        "        default:\n",
        "            time.Sleep(250 * time.Millisecond)\n",
        "        }\n",
        "    }\n",
        "}"
      ]
    },
    {
      "cell_type": "code",
      "metadata": {
        "tags": []
      },
      "source": [
        "%% // Values\n",
        "in := make(chan int)\n",
        "\n",
        "go func() {\n",
        "    for {\n",
        "        in <- 1\n",
        "        time.Sleep(500 * time.Millisecond)\n",
        "        in <- 2\n",
        "        time.Sleep(900 * time.Millisecond)\n",
        "        in <- 3\n",
        "        time.Sleep(1100 * time.Millisecond)\n",
        "        in <- 112\n",
        "    }\n",
        "}()\n",
        "\n",
        "ctxb    := context.Background()\n",
        "ctxt, _ := context.WithTimeout(ctxb, 5*time.Second)\n",
        "ctx     := context.WithValue(ctxt, \"key\", 112)\n",
        "\n",
        "ConsumerWithValue(ctx, in)"
      ]
    },
    {
      "cell_type": "markdown",
      "metadata": {},
      "source": [
        "# OOP - Object oriented go [^](#Overview)"
      ]
    },
    {
      "cell_type": "markdown",
      "metadata": {},
      "source": [
        "## Constructors and methods"
      ]
    },
    {
      "cell_type": "code",
      "metadata": {
        "tags": []
      },
      "source": [
        "type Gopher struct {\n",
        "    name string\n",
        "    age  int\n",
        "}"
      ]
    },
    {
      "cell_type": "code",
      "metadata": {
        "tags": []
      },
      "source": [
        "// Constructors are just ordinary functions\n",
        "func NewGopher(name string, age int) *Gopher {\n",
        "    return &Gopher{name: name, age: age}\n",
        "}\n",
        "\n",
        "// Methods are functions defined on type instances\n",
        "func (g *Gopher) say(something string) {\n",
        "    println(\"Hi there, my name is\", \n",
        "            g.name, \"and I want to say:\", something)\n",
        "}\n",
        "\n",
        "%% // create gopher\n",
        "g := NewGopher(\"Gopher\", 23)\n",
        "g.say(\"Hello developers!!!\")"
      ]
    },
    {
      "cell_type": "markdown",
      "metadata": {},
      "source": [
        "## Method Receivers"
      ]
    },
    {
      "cell_type": "code",
      "metadata": {
        "tags": []
      },
      "source": [
        "type Book struct {\n",
        "\tpages int\n",
        "}\n",
        "\n",
        "func (b *Book) Pages() int {\n",
        "\treturn b.pages\n",
        "}\n",
        "\n",
        "func (b *Book) SetPages(pages int) {\n",
        "\tb.pages = pages\n",
        "}\n",
        "\n",
        "var b Book\n",
        "\n",
        "%% // Set\n",
        "b = Book{300}\n",
        "println(b.Pages())\n",
        "\n",
        "b.SetPages(350)\n",
        "println(b.Pages())"
      ]
    },
    {
      "cell_type": "code",
      "metadata": {
        "tags": []
      },
      "source": [
        "// a subtile difference\n",
        "func (b Book) SetPages(pages int) {\n",
        "\tb.pages = pages\n",
        "}\n",
        "\n",
        "var b Book\n",
        "\n",
        "%%\n",
        "b = Book{250}\n",
        "println(b.Pages())\n",
        "\n",
        "b.SetPages(500)\n",
        "println(b.Pages())"
      ]
    },
    {
      "cell_type": "markdown",
      "metadata": {},
      "source": [
        "## Methods on simple types"
      ]
    },
    {
      "cell_type": "code",
      "metadata": {
        "tags": []
      },
      "source": [
        "type IntNumber int\n",
        "\n",
        "func (n IntNumber) Add(i int) {\n",
        "    println(int(n) + i)\n",
        "}\n",
        "\n",
        "func (n *IntNumber) AddMore(i int) {\n",
        "    *n  = IntNumber(int(*n) + i)\n",
        "}\n",
        "\n",
        "%%\n",
        "var n IntNumber = 10\n",
        "\n",
        "n.Add(10)\n",
        "fmt.Println(n)\n",
        "\n",
        "n.AddMore(10)\n",
        "fmt.Println(n)"
      ]
    },
    {
      "cell_type": "markdown",
      "metadata": {},
      "source": [
        "## Struct embedding\n",
        "\n",
        "Embedding allows to reuse functionality of other types. But don't confuse it with inheritance. The Liskov substitution principle doesn't apply."
      ]
    },
    {
      "cell_type": "code",
      "metadata": {
        "tags": []
      },
      "source": [
        "import \"fmt\"\n",
        "\n",
        "type Person struct {\n",
        "\tName string\n",
        "\tAge  int\n",
        "}\n",
        "func (p Person) PrintName() {\n",
        "\tfmt.Println(\"Name:\", p.Name)\n",
        "}\n",
        "func (p *Person) SetAge(age int) {\n",
        "\tp.Age = age\n",
        "}\n",
        "\n",
        "type Singer struct {\n",
        "\tPerson // extends Person by embedding it\n",
        "\tworks  []string\n",
        "}\n",
        "\n",
        "\n",
        "%%\n",
        "var gaga = Singer{Person{Name: \"Gaga\", Age: 30}, []string{}}\n",
        "gaga.PrintName() // Name: Gaga\n",
        "gaga.Name = \"Lady Gaga\"\n",
        "gaga.SetAge(31)\n",
        "gaga.PrintName()   // Name: Lady Gaga\n",
        "fmt.Printf(\"%+v\\n\",gaga) // 31"
      ]
    },
    {
      "cell_type": "code",
      "metadata": {
        "tags": []
      },
      "source": [
        "func danceWithPerson(p *Person) {\n",
        "    println(\"Dancing with \", p.Name)\n",
        "}\n",
        "\n",
        "%% // Embedding => No Liskov => This fails!!!\n",
        "var gaga = Singer{Person{Name: \"Gaga\", Age: 30}, []string{}}\n",
        "danceWithPerson(&gaga)"
      ]
    },
    {
      "cell_type": "code",
      "metadata": {
        "tags": []
      },
      "source": [
        "%%\n",
        "var gaga = Singer{Person{Name: \"Gaga\", Age: 30}, []string{}}\n",
        "danceWithPerson(&gaga.Person)"
      ]
    },
    {
      "cell_type": "markdown",
      "metadata": {
        "tags": []
      },
      "source": [
        "## Interfaces and duck typing\n",
        "\n",
        "If it walks like a duck, swims like a duck, and quacks like a duck, then it probably is a duck.If it walks like a duck, swims like a duck, and quacks like a duck, then it probably is a duck."
      ]
    },
    {
      "cell_type": "markdown",
      "metadata": {
        "tags": []
      },
      "source": [
        "### Examples\n",
        "\n",
        "Use GoNb kernel for this example."
      ]
    },
    {
      "cell_type": "code",
      "metadata": {
        "tags": []
      },
      "source": [
        "type Person struct {\n",
        "\tName string\n",
        "\tAge  int\n",
        "}\n",
        "\n",
        "type Singer struct {\n",
        "\tPerson // extends Person by embedding it\n",
        "\tworks  []string\n",
        "}\n",
        "\n",
        "func (p Person) String() string {\n",
        "    return fmt.Sprintf(\n",
        "        \"Hey there.. my name is %s, and I'm %d years old.1\",\n",
        "        p.Name, p.Age,\n",
        "    )\n",
        "}\n",
        "\n",
        "%% // Interfaces are for Liskov ;-)\n",
        "var gaga = Singer{Person{Name: \"Gaga\", Age: 30}, []string{}}\n",
        "fmt.Printf(\"Person: %s\\n\", gaga.Person)\n",
        "fmt.Printf(\"Singer: %s\\n\", gaga)"
      ]
    },
    {
      "cell_type": "markdown",
      "metadata": {
        "tags": []
      },
      "source": [
        "### What else?\n",
        "\n",
        "By convention: Taker a noun and end it by \"er\":\n",
        "\n",
        "* [Reader](https://pkg.go.dev/io#Reader)\n",
        "* [Writer](https://pkg.go.dev/io#Writer)\n",
        "* [ReadWriter](https://pkg.go.dev/io#ReadWriter)\n"
      ]
    },
    {
      "cell_type": "markdown",
      "metadata": {},
      "source": [
        "## Custom errors continued..\n",
        "\n",
        "(Back to [Custom errors](#Custom-errors))"
      ]
    },
    {
      "cell_type": "code",
      "metadata": {
        "tags": []
      },
      "source": [
        "import (\n",
        "\t\"errors\"\n",
        "\t\"fmt\"\n",
        ")\n",
        "\n",
        "// let's create an error type that has an additional error code\n",
        "type Error struct {\n",
        "\tMessage string\n",
        "\tCode    int\n",
        "}\n",
        "\n",
        "// By implementing this method we make the error complying to the\n",
        "// error interface\n",
        "func (e *Error) Error() string {\n",
        "\treturn e.Message\n",
        "}\n",
        "\n",
        "// By implementing this method we make it possible to determine\n",
        "// what kind of error we provide: This is called by errors.Is(...)\n",
        "func (e *Error) Is(tgt error) bool {\n",
        "\ttarget, ok := tgt.(*Error)\n",
        "\tif !ok {\n",
        "\t\treturn false\n",
        "\t}\n",
        "\treturn e.Code == target.Code\n",
        "}\n",
        "\n",
        "// We create three dummy error instances for our demo. These are later used\n",
        "// for comparison\n",
        "var NotFoundError *Error = &Error{Code: 1, Message: \"no results\"}\n",
        "var NotAllowedError *Error = &Error{Code: 2, Message: \"no access\"}\n",
        "var DatabaseUnreachableError *Error = &Error{Code: 3, Message: \"database unreachable\"}\n",
        "\n",
        "func NewError(errorType *Error, message string) error {\n",
        "\trc := *errorType\n",
        "    rc.Message = fmt.Sprintf(\"%s: %s\", rc.Message, message)\n",
        "\treturn &rc\n",
        "}\n",
        "\n",
        "func FetchImage(url string) error {\n",
        "    switch url {\n",
        "    case \"image.png\":\n",
        "        return NewError(NotFoundError, \"image is gone\")\n",
        "    case \"image.private.png\":\n",
        "        return NewError(NotAllowedError, \"you're not allowed to see this image\")\n",
        "    default:\n",
        "        return NewError(DatabaseUnreachableError, \"fatal\")\n",
        "    }\n",
        "}\n",
        "\n",
        "%%\n",
        "err1 := FetchImage(\"image.png\")\n",
        "err2 := FetchImage(\"image.private.png\")\n",
        "err3 := FetchImage(\"other.png\")\n",
        "fmt.Println(\"Error is NotFoundError:            \", errors.Is(err1, NotFoundError), \": \", err1)\n",
        "fmt.Println(\"Error is NotAllowedError:          \", errors.Is(err2, NotAllowedError), \": \", err2)\n",
        "fmt.Println(\"Error is DatabaseUnreachableError: \", errors.Is(err3, DatabaseUnreachableError), \": \", err3)\n"
      ]
    }
  ],
  "metadata": {
    "kernelspec": {
      "display_name": "Go (gonb)",
      "language": "go",
      "name": "gonb"
    },
    "language_info": {
      "codemirror_mode": "",
      "file_extension": ".go",
      "mimetype": "",
      "name": "go",
      "nbconvert_exporter": "",
      "pygments_lexer": "",
      "version": "go1.20.7"
    },
    "toc-autonumbering": true,
    "toc-showcode": false,
    "toc-showmarkdowntxt": false,
    "toc-showtags": false
  },
  "nbformat": 4,
  "nbformat_minor": 4
}
