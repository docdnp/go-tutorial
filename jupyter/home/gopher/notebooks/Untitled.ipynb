{
 "cells": [
  {
   "cell_type": "markdown",
   "id": "22cf1a45-8291-4ffa-8480-e91269cedac7",
   "metadata": {},
   "source": []
  },
  {
   "cell_type": "code",
   "execution_count": 20,
   "id": "2137cd7b-9109-4779-bc2f-21636b667a92",
   "metadata": {
    "tags": []
   },
   "outputs": [
    {
     "name": "stderr",
     "output_type": "stream",
     "text": [
      "10\n"
     ]
    }
   ],
   "source": [
    "type IntNumber int\n",
    "\n",
    "func (n IntNumber) Add(i int) {\n",
    "    println(int(n) + i)\n",
    "}\n",
    "\n",
    "func (n *IntNumber) SetTo(i IntNumber) {\n",
    "    *n = 0\n",
    "}\n",
    "\n",
    "func main() {\n",
    "    var n IntNumber \n",
    "    n = 10\n",
    "    n.SetTo(0)\n",
    "    n.Add(10)\n",
    "}"
   ]
  },
  {
   "cell_type": "code",
   "execution_count": 98,
   "id": "fe831cc4-0bb5-4ed1-8b98-3f10864a2e9e",
   "metadata": {
    "tags": []
   },
   "outputs": [
    {
     "name": "stderr",
     "output_type": "stream",
     "text": [
      "10\n"
     ]
    }
   ],
   "source": []
  },
  {
   "cell_type": "code",
   "execution_count": 104,
   "id": "61821adf-73e4-45da-bee9-a6c1004f196b",
   "metadata": {
    "tags": []
   },
   "outputs": [
    {
     "ename": "ERROR",
     "evalue": "reflect.Value.Addr of unaddressable value",
     "output_type": "error",
     "traceback": [
      "reflect.Value.Addr of unaddressable value"
     ]
    }
   ],
   "source": [
    "func (n *IntNumber) SetTo(i IntNumber) {\n",
    "    *n = 0\n",
    "}\n",
    "\n",
    "n = 0\n",
    "n.SetTo(10)\n",
    "n.Add(10)"
   ]
  },
  {
   "cell_type": "code",
   "execution_count": 93,
   "id": "1220f722-9c09-4d0f-b940-032f9f6f9b86",
   "metadata": {
    "tags": []
   },
   "outputs": [
    {
     "name": "stderr",
     "output_type": "stream",
     "text": [
      "10\n"
     ]
    }
   ],
   "source": [
    "func (n IntNumber) SetTo(i int) {\n",
    "    n = i\n",
    "}\n",
    "\n",
    "n = 0\n",
    "n.SetTo(10)\n",
    "n.Add(10)"
   ]
  }
 ],
 "metadata": {
  "kernelspec": {
   "display_name": "Go (gonb)",
   "language": "go",
   "name": "gonb"
  },
  "language_info": {
   "codemirror_mode": "",
   "file_extension": ".go",
   "mimetype": "",
   "name": "go",
   "nbconvert_exporter": "",
   "pygments_lexer": "",
   "version": "go1.20.7"
  }
 },
 "nbformat": 4,
 "nbformat_minor": 5
}
